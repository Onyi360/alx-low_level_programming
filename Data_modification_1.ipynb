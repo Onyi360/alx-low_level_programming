{
  "nbformat": 4,
  "nbformat_minor": 0,
  "metadata": {
    "colab": {
      "provenance": [],
      "authorship_tag": "ABX9TyPRdN8nTcDQ+viQK5C0FEQq",
      "include_colab_link": true
    },
    "kernelspec": {
      "name": "python3",
      "display_name": "Python 3"
    },
    "language_info": {
      "name": "python"
    }
  },
  "cells": [
    {
      "cell_type": "markdown",
      "metadata": {
        "id": "view-in-github",
        "colab_type": "text"
      },
      "source": [
        "<a href=\"https://colab.research.google.com/github/Onyi360/alx-low_level_programming/blob/master/Data_modification_1.ipynb\" target=\"_parent\"><img src=\"https://colab.research.google.com/assets/colab-badge.svg\" alt=\"Open In Colab\"/></a>"
      ]
    },
    {
      "cell_type": "code",
      "execution_count": 171,
      "metadata": {
        "id": "lQ3XUblPEuf6"
      },
      "outputs": [],
      "source": [
        "#importing my libraries\n",
        "import numpy as np\n",
        "import pandas as pd\n",
        "import datetime"
      ]
    },
    {
      "cell_type": "code",
      "source": [
        "D_table = pd.read_excel('/content/dirty table.xlsx')\n",
        "#import my data of interest"
      ],
      "metadata": {
        "id": "YNCGckvWFBCO"
      },
      "execution_count": 172,
      "outputs": []
    },
    {
      "cell_type": "code",
      "source": [
        "print(D_table.to_string(index=True))\n",
        "#Code to make a panda dataframe appear directly above its contents in a console or terminal"
      ],
      "metadata": {
        "colab": {
          "base_uri": "https://localhost:8080/"
        },
        "id": "W1nnPjroHF0h",
        "outputId": "1169d25e-1163-433e-8e29-4e03331c4dec"
      },
      "execution_count": 173,
      "outputs": [
        {
          "output_type": "stream",
          "name": "stdout",
          "text": [
            "    EmployeeID             EmployeeName        Department              Position   Salary  EmploymentType   HireDate  ResignationDate  BirthDate     Gender  MaritalStatus   emp_performance_ratings\n",
            "0            1            Chinedu Okoro             Sales               Manager    50000       Full-Time 2020-01-15       2022-05-30 1985-03-12       Male        Married                         3\n",
            "1            3            Abdul Ibrahim                It             Developer    45000       Part-Time 2021-03-05              NaT 1992-11-18       Male        Married                         4\n",
            "2            4            Funke Adeleke                Hr           Coordinator    35000       Full-Time 2018-09-20       2022-08-10 1988-06-30     Female         Single                         5\n",
            "3            5         Adebayo Ogundipe             Sales        Representative    30000       Part-Time 2022-02-12              NaT 1995-01-08       Male         Single                         1\n",
            "4            6             Zainab Ahmed                It               Manager    55000       Full-Time 2017-07-01              NaT 1987-09-02   ..Female        Married                         4\n",
            "5            7               Nnamdi Eze         Marketing              Designer    42000       Full-Time 2021-08-15       2022-07-10 1991-04-22       Male         Single                         5\n",
            "6            8            Chioma Okafor             Sales        Representative    32000       Part-Time 2019-12-25              NaT 1993-08-10    /Female         Single                         2\n",
            "7            9               Ahmed Musa                Hr        Co...ordinator    35000       Full-Time 2019-01-27       2022-10-15 1989-05-05       Male        Married                         4\n",
            "8           10              Amina Bello                It             Developer    45000       Full-Time 2022-03-07              NaT 1996-10-15     Female         Single                         4\n",
            "9           11             Emeka Okafor             Sales               Manager    48000    Full    Time 2020-04-18              NaT 1986-02-28       Male        Married                         1\n",
            "10          12                Chika Eze         Marketing               Analyst    38000       Full-Time 2018-07-10       2022-09-25 1991-06-15     Female         Single                         2\n",
            "11          13            Ngozi Adewale                It             Developer    42000       Part/Time 2021-01-05              NaT 1993-10-18   ..Female        Married                         4\n",
            "12          14          Olumide Adeyemi                Hr         ..Coordinator    35000       Full-Time 2019-02-20              NaT 1990-08-10       Male         Single                         1\n",
            "13          15         Ayodele Adekunle             Sales        Representative    28000       Part-Time 2022-06-12              NaT 1994-03-08       Male         Single                         5\n",
            "14          16        Ifeoluwa Akindele                It               Manager    58000       Full-Time 2017-10-01       2022-07-01 1985-11-02      Feale        Married                         3\n",
            "15          17            Ibrahim Lawal         Marketing             .Designer    40000       Full-Time 2021-12-15              NaT 1993-05-22       Male         Single                         3\n",
            "16          18              fatima june             Sales        Representative    33000       Part-Time 2019-11-25              NaT 1992-09-10    Fe male         Single                         2\n",
            "17          19        Abdulrahman Aliyu              Hr,,         Coord./inator    35000       Full-Time 2019-04-27       2022-11-15 1987-05-05       Male        Married                         5\n",
            "18          20          Fatima Balarabe                It             Developer    45000       Full-Time 2022-05-07              NaT 1997-02-25     Female         Single                         4\n",
            "19          21        Oluwatosin Onuoha             Sales               Manager    50000       Full-Time 2020-08-12              NaT 1989-04-10       Male        Married                         3\n",
            "20          22      Chinwendu Nwachukwu        .Marketing               Analyst    40000       Full-Time 2019-09-10       2022-10-05 1994-12-15     Female         Single                         4\n",
            "21          23           Mustapha Yusuf                It             Developer    45000       Part-Time 2021-06-25              NaT 1991-07-18       Male        Married                         4\n",
            "22          24          Yetunde Oladapo                Hr           Coordinator    35000       Full-Time 2018-12-01              NaT 1988-09-30     Female         Single                         1\n",
            "23          25              Adewale Ojo          Sa...les      ..Representative    30000       Part-Time 2022-03-22              NaT 1995-05-25       Male         Single                         2\n",
            "24          26          Aishat Abubakar                It               Manager    55000       Full-Time 2017-05-18       2022-08-15 1986-08-02     Female        Married                         4\n",
            "25          27       Oluwasegun Adeleke         Marketing            ..Designer    42000       Full-Time 2022-02-05              NaT 1992-11-22       Male         Single                         5\n",
            "26          28       Ijeoma Chukwuemeka             Sales        Representative    32000       Part-Time 2019-07-25              NaT 1993-02-10     Female         Single                         3\n",
            "27          29     Abdulrahman Mohammed                Hr           Coordinator    35000       Full-Time 2019-03-17       2022-09-30 1989-07-05       Male        Married                         3\n",
            "28          30             Zainab Adamu                It             Developer    45000       Full-Time 2022-01-07              NaT 1996-04-15     Female         Single                         1\n",
            "29          31             Chijioke Obi             Sales               Manager    48000       Full-Time 2020-02-10              NaT 1987-08-20       Male        Married                         4\n",
            "30          32         Amarachi Okonkwo         Marketing               Analyst    38000       Full-Time 2018-05-05       2022-06-20 1990-12-05     Female         Single                         5\n",
            "31          33            Nasiru Hassan                It             Developer    42000       Part-Time 2021-07-20              NaT 1993-02-28       Male        Married                         2\n",
            "32          34          Temitope Akande                Hr           Coordinator    35000       Full-Time 2019-10-12              NaT 1988-06-15     Female         Single                         4\n",
            "33          35         Ayomide Olalekan             Sales        Representative    28000       Part-Time 2022-04-02              NaT 1994-11-08       Male         Single                         3\n",
            "34          36          Chinyere Nnamdi                It               Manager    58000       Full-Time 2017-08-15       2022-06-10 1986-01-02     Female        Married                         4\n",
            "35          37              Idris Bello         Marketing              Designer    40000       Full-Time 2021-11-01              NaT 1993-10-18       Male         Single                         5\n",
            "36          38               Adaobi Eze             Sales        Representative    33000       Part-Time 2019-06-25              NaT 1992-08-10     Female         Single                         1\n",
            "37          39            Yusuf Ibrahim                Hr           Coordinator    35000       Full-Time 2019-09-27       2022-11-10 1987-04-05       Male        Married                         3\n",
            "38          40         Nafisat Suleiman                It             Developer    45000       Full-Time 2022-07-07              NaT 1997-01-20     Female         Single                         5\n",
            "39          41           Adewale Akande             Sales               Manager    50000       Full-Time 2020-10-12              NaT 1989-03-15       Male        Married                         3\n",
            "40          42           Blessing Nwosu         Marketing               Analyst    40000       Full-Time 2019-11-05       2022-12-20 1991-05-25     Female         Single                         2\n",
            "41          43             Farouk Aliyu                It             Developer    45000       Part-Time 2021-09-10              NaT 1990-02-18       Male        Married                         4\n",
            "42          44         Folasade Oladapo                Hr           Coordinator    35000       Full-Time 2018-10-25              NaT 1988-11-30     Female         Single                         3\n",
            "43          45            Babatunde Ojo             Sales        Representative    30000       Part-Time 2022-01-22              NaT 1995-03-25       Male         Single                         4\n",
            "44          46          Nneka Nwachukwu                It               Manager    55000       Full-Time 2017-03-18       2022-10-01 1986-05-12     Female        Married                         4\n",
            "45          47          Olamide Adeyemi        Marketing…              Designer    42000       Full-Time 2022-04-05              NaT 1992-09-22       Male         Single                         1\n",
            "46          48     Chidinma Chukwuemeka             Sales        Representative    32000       Part-Time 2019-08-27              NaT 1993-03-10     Female         Single                         2\n",
            "47          49          Abdullahi Ahmed                Hr           Coordinator    35000       Full-Time 2019-05-10       2022-12-15 1989-08-05       Male        Married                         5\n",
            "48          50             Fatima Bello                It             Developer    45000       Full-Time 2022-08-07              NaT 1996-11-20     Female         Single                         3\n"
          ]
        }
      ]
    },
    {
      "cell_type": "markdown",
      "source": [
        "REMOVING WHITESPACES FROM COLUMN NAMES AND COLUMNS"
      ],
      "metadata": {
        "id": "qU_MRpLRMKD-"
      }
    },
    {
      "cell_type": "code",
      "source": [
        "D_table.columns = D_table.columns.str.replace(' ', '', regex=True)\n",
        "#To remove whitespaces from column names"
      ],
      "metadata": {
        "id": "OzfMR_juLQib"
      },
      "execution_count": 174,
      "outputs": []
    },
    {
      "cell_type": "code",
      "source": [
        "D_table = D_table.apply(lambda x: x.str.strip() if x.dtype == \"object\" else x)\n",
        "#Trim whitspaces from all string columns"
      ],
      "metadata": {
        "id": "ylkm41GJLIuX"
      },
      "execution_count": 175,
      "outputs": []
    },
    {
      "cell_type": "markdown",
      "source": [
        "CHECKING FOR DUPLICATES"
      ],
      "metadata": {
        "id": "8emybdgKNIP3"
      }
    },
    {
      "cell_type": "code",
      "source": [
        "print(D_table.duplicated(subset=['EmployeeName', 'EmployeeID']))\n",
        "#Check if dupicates appeared in two columns"
      ],
      "metadata": {
        "colab": {
          "base_uri": "https://localhost:8080/"
        },
        "id": "-C2_7l1gMvXr",
        "outputId": "98827eca-e9f3-431c-cc0d-6bfd0dec9006"
      },
      "execution_count": 176,
      "outputs": [
        {
          "output_type": "stream",
          "name": "stdout",
          "text": [
            "0     False\n",
            "1     False\n",
            "2     False\n",
            "3     False\n",
            "4     False\n",
            "5     False\n",
            "6     False\n",
            "7     False\n",
            "8     False\n",
            "9     False\n",
            "10    False\n",
            "11    False\n",
            "12    False\n",
            "13    False\n",
            "14    False\n",
            "15    False\n",
            "16    False\n",
            "17    False\n",
            "18    False\n",
            "19    False\n",
            "20    False\n",
            "21    False\n",
            "22    False\n",
            "23    False\n",
            "24    False\n",
            "25    False\n",
            "26    False\n",
            "27    False\n",
            "28    False\n",
            "29    False\n",
            "30    False\n",
            "31    False\n",
            "32    False\n",
            "33    False\n",
            "34    False\n",
            "35    False\n",
            "36    False\n",
            "37    False\n",
            "38    False\n",
            "39    False\n",
            "40    False\n",
            "41    False\n",
            "42    False\n",
            "43    False\n",
            "44    False\n",
            "45    False\n",
            "46    False\n",
            "47    False\n",
            "48    False\n",
            "dtype: bool\n"
          ]
        }
      ]
    },
    {
      "cell_type": "code",
      "source": [
        "# Check for duplicates\n",
        "duplicates = D_table.duplicated()\n",
        "\n",
        "# Display duplicate rows\n",
        "print(\"\\nDuplicate Rows:\")\n",
        "print(D_table[duplicates])\n",
        "\n",
        "# Count of duplicate rows\n",
        "duplicate_count = duplicates.sum()\n",
        "print(f\"\\nTotal number of duplicate rows: {duplicate_count}\")"
      ],
      "metadata": {
        "colab": {
          "base_uri": "https://localhost:8080/"
        },
        "id": "IxJ6dGTyOlYn",
        "outputId": "583234a3-132d-4a28-85b9-a2530eb05798"
      },
      "execution_count": 177,
      "outputs": [
        {
          "output_type": "stream",
          "name": "stdout",
          "text": [
            "\n",
            "Duplicate Rows:\n",
            "Empty DataFrame\n",
            "Columns: [EmployeeID, EmployeeName, Department, Position, Salary, EmploymentType, HireDate, ResignationDate, BirthDate, Gender, MaritalStatus, emp_performance_ratings]\n",
            "Index: []\n",
            "\n",
            "Total number of duplicate rows: 0\n"
          ]
        }
      ]
    },
    {
      "cell_type": "code",
      "source": [
        "print(D_table.duplicated('EmployeeID'))"
      ],
      "metadata": {
        "colab": {
          "base_uri": "https://localhost:8080/"
        },
        "id": "aSRe2HG-PipU",
        "outputId": "8d7f8b33-3c23-4fc4-9e44-12da9b22a585"
      },
      "execution_count": 178,
      "outputs": [
        {
          "output_type": "stream",
          "name": "stdout",
          "text": [
            "0     False\n",
            "1     False\n",
            "2     False\n",
            "3     False\n",
            "4     False\n",
            "5     False\n",
            "6     False\n",
            "7     False\n",
            "8     False\n",
            "9     False\n",
            "10    False\n",
            "11    False\n",
            "12    False\n",
            "13    False\n",
            "14    False\n",
            "15    False\n",
            "16    False\n",
            "17    False\n",
            "18    False\n",
            "19    False\n",
            "20    False\n",
            "21    False\n",
            "22    False\n",
            "23    False\n",
            "24    False\n",
            "25    False\n",
            "26    False\n",
            "27    False\n",
            "28    False\n",
            "29    False\n",
            "30    False\n",
            "31    False\n",
            "32    False\n",
            "33    False\n",
            "34    False\n",
            "35    False\n",
            "36    False\n",
            "37    False\n",
            "38    False\n",
            "39    False\n",
            "40    False\n",
            "41    False\n",
            "42    False\n",
            "43    False\n",
            "44    False\n",
            "45    False\n",
            "46    False\n",
            "47    False\n",
            "48    False\n",
            "dtype: bool\n"
          ]
        }
      ]
    },
    {
      "cell_type": "code",
      "source": [
        "print(D_table.to_string(index=True))"
      ],
      "metadata": {
        "colab": {
          "base_uri": "https://localhost:8080/"
        },
        "id": "IkkyW0NhQqCJ",
        "outputId": "91f00ad5-a954-4f20-a5a4-04faa6e9b730"
      },
      "execution_count": 179,
      "outputs": [
        {
          "output_type": "stream",
          "name": "stdout",
          "text": [
            "    EmployeeID          EmployeeName  Department          Position  Salary EmploymentType   HireDate ResignationDate  BirthDate    Gender MaritalStatus  emp_performance_ratings\n",
            "0            1         Chinedu Okoro       Sales           Manager   50000      Full-Time 2020-01-15      2022-05-30 1985-03-12      Male       Married                        3\n",
            "1            3         Abdul Ibrahim          It         Developer   45000      Part-Time 2021-03-05             NaT 1992-11-18      Male       Married                        4\n",
            "2            4         Funke Adeleke          Hr       Coordinator   35000      Full-Time 2018-09-20      2022-08-10 1988-06-30    Female        Single                        5\n",
            "3            5      Adebayo Ogundipe       Sales    Representative   30000      Part-Time 2022-02-12             NaT 1995-01-08      Male        Single                        1\n",
            "4            6          Zainab Ahmed          It           Manager   55000      Full-Time 2017-07-01             NaT 1987-09-02  ..Female       Married                        4\n",
            "5            7            Nnamdi Eze   Marketing          Designer   42000      Full-Time 2021-08-15      2022-07-10 1991-04-22      Male        Single                        5\n",
            "6            8         Chioma Okafor       Sales    Representative   32000      Part-Time 2019-12-25             NaT 1993-08-10   /Female        Single                        2\n",
            "7            9            Ahmed Musa          Hr    Co...ordinator   35000      Full-Time 2019-01-27      2022-10-15 1989-05-05      Male       Married                        4\n",
            "8           10           Amina Bello          It         Developer   45000      Full-Time 2022-03-07             NaT 1996-10-15    Female        Single                        4\n",
            "9           11          Emeka Okafor       Sales           Manager   48000   Full    Time 2020-04-18             NaT 1986-02-28      Male       Married                        1\n",
            "10          12             Chika Eze   Marketing           Analyst   38000      Full-Time 2018-07-10      2022-09-25 1991-06-15    Female        Single                        2\n",
            "11          13         Ngozi Adewale          It         Developer   42000      Part/Time 2021-01-05             NaT 1993-10-18  ..Female       Married                        4\n",
            "12          14       Olumide Adeyemi          Hr     ..Coordinator   35000      Full-Time 2019-02-20             NaT 1990-08-10      Male        Single                        1\n",
            "13          15      Ayodele Adekunle       Sales    Representative   28000      Part-Time 2022-06-12             NaT 1994-03-08      Male        Single                        5\n",
            "14          16     Ifeoluwa Akindele          It           Manager   58000      Full-Time 2017-10-01      2022-07-01 1985-11-02     Feale       Married                        3\n",
            "15          17         Ibrahim Lawal   Marketing         .Designer   40000      Full-Time 2021-12-15             NaT 1993-05-22      Male        Single                        3\n",
            "16          18           fatima june       Sales    Representative   33000      Part-Time 2019-11-25             NaT 1992-09-10   Fe male        Single                        2\n",
            "17          19     Abdulrahman Aliyu        Hr,,     Coord./inator   35000      Full-Time 2019-04-27      2022-11-15 1987-05-05      Male       Married                        5\n",
            "18          20       Fatima Balarabe          It         Developer   45000      Full-Time 2022-05-07             NaT 1997-02-25    Female        Single                        4\n",
            "19          21     Oluwatosin Onuoha       Sales           Manager   50000      Full-Time 2020-08-12             NaT 1989-04-10      Male       Married                        3\n",
            "20          22   Chinwendu Nwachukwu  .Marketing           Analyst   40000      Full-Time 2019-09-10      2022-10-05 1994-12-15    Female        Single                        4\n",
            "21          23        Mustapha Yusuf          It         Developer   45000      Part-Time 2021-06-25             NaT 1991-07-18      Male       Married                        4\n",
            "22          24       Yetunde Oladapo          Hr       Coordinator   35000      Full-Time 2018-12-01             NaT 1988-09-30    Female        Single                        1\n",
            "23          25           Adewale Ojo    Sa...les  ..Representative   30000      Part-Time 2022-03-22             NaT 1995-05-25      Male        Single                        2\n",
            "24          26       Aishat Abubakar          It           Manager   55000      Full-Time 2017-05-18      2022-08-15 1986-08-02    Female       Married                        4\n",
            "25          27    Oluwasegun Adeleke   Marketing        ..Designer   42000      Full-Time 2022-02-05             NaT 1992-11-22      Male        Single                        5\n",
            "26          28    Ijeoma Chukwuemeka       Sales    Representative   32000      Part-Time 2019-07-25             NaT 1993-02-10    Female        Single                        3\n",
            "27          29  Abdulrahman Mohammed          Hr       Coordinator   35000      Full-Time 2019-03-17      2022-09-30 1989-07-05      Male       Married                        3\n",
            "28          30          Zainab Adamu          It         Developer   45000      Full-Time 2022-01-07             NaT 1996-04-15    Female        Single                        1\n",
            "29          31          Chijioke Obi       Sales           Manager   48000      Full-Time 2020-02-10             NaT 1987-08-20      Male       Married                        4\n",
            "30          32      Amarachi Okonkwo   Marketing           Analyst   38000      Full-Time 2018-05-05      2022-06-20 1990-12-05    Female        Single                        5\n",
            "31          33         Nasiru Hassan          It         Developer   42000      Part-Time 2021-07-20             NaT 1993-02-28      Male       Married                        2\n",
            "32          34       Temitope Akande          Hr       Coordinator   35000      Full-Time 2019-10-12             NaT 1988-06-15    Female        Single                        4\n",
            "33          35      Ayomide Olalekan       Sales    Representative   28000      Part-Time 2022-04-02             NaT 1994-11-08      Male        Single                        3\n",
            "34          36       Chinyere Nnamdi          It           Manager   58000      Full-Time 2017-08-15      2022-06-10 1986-01-02    Female       Married                        4\n",
            "35          37           Idris Bello   Marketing          Designer   40000      Full-Time 2021-11-01             NaT 1993-10-18      Male        Single                        5\n",
            "36          38            Adaobi Eze       Sales    Representative   33000      Part-Time 2019-06-25             NaT 1992-08-10    Female        Single                        1\n",
            "37          39         Yusuf Ibrahim          Hr       Coordinator   35000      Full-Time 2019-09-27      2022-11-10 1987-04-05      Male       Married                        3\n",
            "38          40      Nafisat Suleiman          It         Developer   45000      Full-Time 2022-07-07             NaT 1997-01-20    Female        Single                        5\n",
            "39          41        Adewale Akande       Sales           Manager   50000      Full-Time 2020-10-12             NaT 1989-03-15      Male       Married                        3\n",
            "40          42        Blessing Nwosu   Marketing           Analyst   40000      Full-Time 2019-11-05      2022-12-20 1991-05-25    Female        Single                        2\n",
            "41          43          Farouk Aliyu          It         Developer   45000      Part-Time 2021-09-10             NaT 1990-02-18      Male       Married                        4\n",
            "42          44      Folasade Oladapo          Hr       Coordinator   35000      Full-Time 2018-10-25             NaT 1988-11-30    Female        Single                        3\n",
            "43          45         Babatunde Ojo       Sales    Representative   30000      Part-Time 2022-01-22             NaT 1995-03-25      Male        Single                        4\n",
            "44          46       Nneka Nwachukwu          It           Manager   55000      Full-Time 2017-03-18      2022-10-01 1986-05-12    Female       Married                        4\n",
            "45          47       Olamide Adeyemi  Marketing…          Designer   42000      Full-Time 2022-04-05             NaT 1992-09-22      Male        Single                        1\n",
            "46          48  Chidinma Chukwuemeka       Sales    Representative   32000      Part-Time 2019-08-27             NaT 1993-03-10    Female        Single                        2\n",
            "47          49       Abdullahi Ahmed          Hr       Coordinator   35000      Full-Time 2019-05-10      2022-12-15 1989-08-05      Male       Married                        5\n",
            "48          50          Fatima Bello          It         Developer   45000      Full-Time 2022-08-07             NaT 1996-11-20    Female        Single                        3\n"
          ]
        }
      ]
    },
    {
      "cell_type": "markdown",
      "source": [
        "REMOVING WRONG ITEMS"
      ],
      "metadata": {
        "id": "UmGh70XWQTzC"
      }
    },
    {
      "cell_type": "code",
      "source": [
        "#Checking for distinct values in the department column\n",
        "distinct_values = D_table['Department'].unique()\n",
        "\n",
        "print(distinct_values)"
      ],
      "metadata": {
        "colab": {
          "base_uri": "https://localhost:8080/"
        },
        "id": "0LaM3mTfQQsJ",
        "outputId": "4561b45f-5494-49bb-9df0-b01d6d1dd1c2"
      },
      "execution_count": 180,
      "outputs": [
        {
          "output_type": "stream",
          "name": "stdout",
          "text": [
            "['Sales' 'It' 'Hr' 'Marketing' 'Hr,,' '.Marketing' 'Sa...les' 'Marketing…']\n"
          ]
        }
      ]
    },
    {
      "cell_type": "code",
      "source": [
        "#Effecting the changes in the department column\n",
        "D_table['Department'] = D_table['Department'].str.replace('It','IT', regex=True)\n",
        "D_table['Department'] = D_table['Department'].str.replace('Hr','HR', regex=True)\n",
        "D_table['Department'] = D_table['Department'].str.replace('Hr,,','HR', regex=True)\n",
        "D_table['Department'] = D_table['Department'].str.replace('.Marketing','Marketing', regex=True)\n",
        "D_table['Department'] = D_table['Department'].str.replace('Sa...les','Sales', regex=True)\n",
        "D_table['Department'] = D_table['Department'].str.replace('Marketing…','Marketing', regex=True)\n",
        "D_table['Department'] = D_table['Department'].str.replace('HR,,','HR', regex=True)"
      ],
      "metadata": {
        "id": "bB6L5cNqRSK7"
      },
      "execution_count": 181,
      "outputs": []
    },
    {
      "cell_type": "code",
      "source": [
        "print(D_table.to_string(index=True))"
      ],
      "metadata": {
        "colab": {
          "base_uri": "https://localhost:8080/"
        },
        "id": "fSC842PZI-cU",
        "outputId": "1f6bba15-f477-49c2-a4c1-394147d734c8"
      },
      "execution_count": 182,
      "outputs": [
        {
          "output_type": "stream",
          "name": "stdout",
          "text": [
            "    EmployeeID          EmployeeName Department          Position  Salary EmploymentType   HireDate ResignationDate  BirthDate    Gender MaritalStatus  emp_performance_ratings\n",
            "0            1         Chinedu Okoro      Sales           Manager   50000      Full-Time 2020-01-15      2022-05-30 1985-03-12      Male       Married                        3\n",
            "1            3         Abdul Ibrahim         IT         Developer   45000      Part-Time 2021-03-05             NaT 1992-11-18      Male       Married                        4\n",
            "2            4         Funke Adeleke         HR       Coordinator   35000      Full-Time 2018-09-20      2022-08-10 1988-06-30    Female        Single                        5\n",
            "3            5      Adebayo Ogundipe      Sales    Representative   30000      Part-Time 2022-02-12             NaT 1995-01-08      Male        Single                        1\n",
            "4            6          Zainab Ahmed         IT           Manager   55000      Full-Time 2017-07-01             NaT 1987-09-02  ..Female       Married                        4\n",
            "5            7            Nnamdi Eze  Marketing          Designer   42000      Full-Time 2021-08-15      2022-07-10 1991-04-22      Male        Single                        5\n",
            "6            8         Chioma Okafor      Sales    Representative   32000      Part-Time 2019-12-25             NaT 1993-08-10   /Female        Single                        2\n",
            "7            9            Ahmed Musa         HR    Co...ordinator   35000      Full-Time 2019-01-27      2022-10-15 1989-05-05      Male       Married                        4\n",
            "8           10           Amina Bello         IT         Developer   45000      Full-Time 2022-03-07             NaT 1996-10-15    Female        Single                        4\n",
            "9           11          Emeka Okafor      Sales           Manager   48000   Full    Time 2020-04-18             NaT 1986-02-28      Male       Married                        1\n",
            "10          12             Chika Eze  Marketing           Analyst   38000      Full-Time 2018-07-10      2022-09-25 1991-06-15    Female        Single                        2\n",
            "11          13         Ngozi Adewale         IT         Developer   42000      Part/Time 2021-01-05             NaT 1993-10-18  ..Female       Married                        4\n",
            "12          14       Olumide Adeyemi         HR     ..Coordinator   35000      Full-Time 2019-02-20             NaT 1990-08-10      Male        Single                        1\n",
            "13          15      Ayodele Adekunle      Sales    Representative   28000      Part-Time 2022-06-12             NaT 1994-03-08      Male        Single                        5\n",
            "14          16     Ifeoluwa Akindele         IT           Manager   58000      Full-Time 2017-10-01      2022-07-01 1985-11-02     Feale       Married                        3\n",
            "15          17         Ibrahim Lawal  Marketing         .Designer   40000      Full-Time 2021-12-15             NaT 1993-05-22      Male        Single                        3\n",
            "16          18           fatima june      Sales    Representative   33000      Part-Time 2019-11-25             NaT 1992-09-10   Fe male        Single                        2\n",
            "17          19     Abdulrahman Aliyu         HR     Coord./inator   35000      Full-Time 2019-04-27      2022-11-15 1987-05-05      Male       Married                        5\n",
            "18          20       Fatima Balarabe         IT         Developer   45000      Full-Time 2022-05-07             NaT 1997-02-25    Female        Single                        4\n",
            "19          21     Oluwatosin Onuoha      Sales           Manager   50000      Full-Time 2020-08-12             NaT 1989-04-10      Male       Married                        3\n",
            "20          22   Chinwendu Nwachukwu  Marketing           Analyst   40000      Full-Time 2019-09-10      2022-10-05 1994-12-15    Female        Single                        4\n",
            "21          23        Mustapha Yusuf         IT         Developer   45000      Part-Time 2021-06-25             NaT 1991-07-18      Male       Married                        4\n",
            "22          24       Yetunde Oladapo         HR       Coordinator   35000      Full-Time 2018-12-01             NaT 1988-09-30    Female        Single                        1\n",
            "23          25           Adewale Ojo      Sales  ..Representative   30000      Part-Time 2022-03-22             NaT 1995-05-25      Male        Single                        2\n",
            "24          26       Aishat Abubakar         IT           Manager   55000      Full-Time 2017-05-18      2022-08-15 1986-08-02    Female       Married                        4\n",
            "25          27    Oluwasegun Adeleke  Marketing        ..Designer   42000      Full-Time 2022-02-05             NaT 1992-11-22      Male        Single                        5\n",
            "26          28    Ijeoma Chukwuemeka      Sales    Representative   32000      Part-Time 2019-07-25             NaT 1993-02-10    Female        Single                        3\n",
            "27          29  Abdulrahman Mohammed         HR       Coordinator   35000      Full-Time 2019-03-17      2022-09-30 1989-07-05      Male       Married                        3\n",
            "28          30          Zainab Adamu         IT         Developer   45000      Full-Time 2022-01-07             NaT 1996-04-15    Female        Single                        1\n",
            "29          31          Chijioke Obi      Sales           Manager   48000      Full-Time 2020-02-10             NaT 1987-08-20      Male       Married                        4\n",
            "30          32      Amarachi Okonkwo  Marketing           Analyst   38000      Full-Time 2018-05-05      2022-06-20 1990-12-05    Female        Single                        5\n",
            "31          33         Nasiru Hassan         IT         Developer   42000      Part-Time 2021-07-20             NaT 1993-02-28      Male       Married                        2\n",
            "32          34       Temitope Akande         HR       Coordinator   35000      Full-Time 2019-10-12             NaT 1988-06-15    Female        Single                        4\n",
            "33          35      Ayomide Olalekan      Sales    Representative   28000      Part-Time 2022-04-02             NaT 1994-11-08      Male        Single                        3\n",
            "34          36       Chinyere Nnamdi         IT           Manager   58000      Full-Time 2017-08-15      2022-06-10 1986-01-02    Female       Married                        4\n",
            "35          37           Idris Bello  Marketing          Designer   40000      Full-Time 2021-11-01             NaT 1993-10-18      Male        Single                        5\n",
            "36          38            Adaobi Eze      Sales    Representative   33000      Part-Time 2019-06-25             NaT 1992-08-10    Female        Single                        1\n",
            "37          39         Yusuf Ibrahim         HR       Coordinator   35000      Full-Time 2019-09-27      2022-11-10 1987-04-05      Male       Married                        3\n",
            "38          40      Nafisat Suleiman         IT         Developer   45000      Full-Time 2022-07-07             NaT 1997-01-20    Female        Single                        5\n",
            "39          41        Adewale Akande      Sales           Manager   50000      Full-Time 2020-10-12             NaT 1989-03-15      Male       Married                        3\n",
            "40          42        Blessing Nwosu  Marketing           Analyst   40000      Full-Time 2019-11-05      2022-12-20 1991-05-25    Female        Single                        2\n",
            "41          43          Farouk Aliyu         IT         Developer   45000      Part-Time 2021-09-10             NaT 1990-02-18      Male       Married                        4\n",
            "42          44      Folasade Oladapo         HR       Coordinator   35000      Full-Time 2018-10-25             NaT 1988-11-30    Female        Single                        3\n",
            "43          45         Babatunde Ojo      Sales    Representative   30000      Part-Time 2022-01-22             NaT 1995-03-25      Male        Single                        4\n",
            "44          46       Nneka Nwachukwu         IT           Manager   55000      Full-Time 2017-03-18      2022-10-01 1986-05-12    Female       Married                        4\n",
            "45          47       Olamide Adeyemi  Marketing          Designer   42000      Full-Time 2022-04-05             NaT 1992-09-22      Male        Single                        1\n",
            "46          48  Chidinma Chukwuemeka      Sales    Representative   32000      Part-Time 2019-08-27             NaT 1993-03-10    Female        Single                        2\n",
            "47          49       Abdullahi Ahmed         HR       Coordinator   35000      Full-Time 2019-05-10      2022-12-15 1989-08-05      Male       Married                        5\n",
            "48          50          Fatima Bello         IT         Developer   45000      Full-Time 2022-08-07             NaT 1996-11-20    Female        Single                        3\n"
          ]
        }
      ]
    },
    {
      "cell_type": "code",
      "source": [
        "#Checking for distinct values in the position column\n",
        "distinct_values =  D_table['Position'].unique()\n",
        "\n",
        "print(distinct_values)"
      ],
      "metadata": {
        "colab": {
          "base_uri": "https://localhost:8080/"
        },
        "id": "QCRPdXsfTZu6",
        "outputId": "de546bf1-043f-4469-e089-37964fd79d52"
      },
      "execution_count": 183,
      "outputs": [
        {
          "output_type": "stream",
          "name": "stdout",
          "text": [
            "['Manager' 'Developer' 'Coordinator' 'Representative' 'Designer'\n",
            " 'Co...ordinator' 'Analyst' '..Coordinator' '.Designer' 'Coord./inator'\n",
            " '..Representative' '..Designer']\n"
          ]
        }
      ]
    },
    {
      "cell_type": "code",
      "source": [
        "#Effecting changes on the distinct values in the Position Column\n",
        "D_table['Position'] = D_table['Position'].str.replace('Co...ordinator','Coordinator', regex=True)\n",
        "D_table['Position'] = D_table['Position'].str.replace('..Coordinator','Coordinator', regex=True)\n",
        "D_table['Position'] = D_table['Position'].str.replace('.Designer','Designer', regex=True)\n",
        "D_table['Position'] = D_table['Position'].str.replace('Coord./inator','Coordinator', regex=True)\n",
        "D_table['Position'] = D_table['Position'].str.replace('..Representative','Representative', regex=True)\n",
        "D_table['Position'] = D_table['Position'].str.replace('..Designer','Designer', regex=True)\n",
        "D_table['Position'] = D_table['Position'].str.replace('.Designer','Designer', regex=True)\n"
      ],
      "metadata": {
        "id": "cv93iixRTxW_"
      },
      "execution_count": 184,
      "outputs": []
    },
    {
      "cell_type": "code",
      "source": [
        "#Checking for effected changes\n",
        "distinct_values =  D_table['Position'].unique()\n",
        "\n",
        "print(distinct_values)"
      ],
      "metadata": {
        "colab": {
          "base_uri": "https://localhost:8080/"
        },
        "id": "eUYLyQcpUTNr",
        "outputId": "c69bd18b-a426-44d6-fe6e-e145ee3b16ef"
      },
      "execution_count": 185,
      "outputs": [
        {
          "output_type": "stream",
          "name": "stdout",
          "text": [
            "['Manager' 'Developer' 'Coordinator' 'Representative' 'Designer' 'Analyst']\n"
          ]
        }
      ]
    },
    {
      "cell_type": "code",
      "source": [
        "#Checking for distinct values in 'EmploymentType' column\n",
        "distinct_values = D_table['EmploymentType'].unique()\n",
        "\n",
        "print(distinct_values)"
      ],
      "metadata": {
        "colab": {
          "base_uri": "https://localhost:8080/"
        },
        "id": "5IhM3NfKVV9H",
        "outputId": "3d85f669-969a-42e8-ebb8-16cd0d9f7b63"
      },
      "execution_count": 186,
      "outputs": [
        {
          "output_type": "stream",
          "name": "stdout",
          "text": [
            "['Full-Time' 'Part-Time' 'Full    Time' 'Part/Time']\n"
          ]
        }
      ]
    },
    {
      "cell_type": "code",
      "source": [
        "#Effecting changes on distinct values in the column 'EmployementType'\n",
        "D_table['EmploymentType'] = D_table['EmploymentType'].str.replace('Full    Time','Full-Time', regex=True)\n",
        "D_table['EmploymentType'] = D_table['EmploymentType'].str.replace('Part/Time','Part-Time', regex=True)"
      ],
      "metadata": {
        "id": "TzgXSYG0VuWm"
      },
      "execution_count": 187,
      "outputs": []
    },
    {
      "cell_type": "code",
      "source": [
        "#Checking for effected changes\n",
        "distinct_values =  D_table['EmploymentType'].unique()\n",
        "\n",
        "print(distinct_values)"
      ],
      "metadata": {
        "colab": {
          "base_uri": "https://localhost:8080/"
        },
        "id": "Qetq9Ya1WdT0",
        "outputId": "29e47fb5-3d13-4a55-d0d2-d7913ce8a6e5"
      },
      "execution_count": 188,
      "outputs": [
        {
          "output_type": "stream",
          "name": "stdout",
          "text": [
            "['Full-Time' 'Part-Time']\n"
          ]
        }
      ]
    },
    {
      "cell_type": "markdown",
      "source": [
        "CREATING A CONDITIONAL COLUMN(ATTRITION) TO GENERATE BOOLEAN VALUES FROM RESIGNATIONDATE"
      ],
      "metadata": {
        "id": "-Prc7A6YX__-"
      }
    },
    {
      "cell_type": "code",
      "source": [
        "D_table['Attrition'] = np.where(D_table['ResignationDate'].isna(), 'NO', 'YES')\n",
        "#This code returns 'YES' for staff currently working and 'NO' for those who resigned"
      ],
      "metadata": {
        "id": "WkMVqW05XW9-"
      },
      "execution_count": 189,
      "outputs": []
    },
    {
      "cell_type": "code",
      "source": [
        "print(D_table.columns)"
      ],
      "metadata": {
        "colab": {
          "base_uri": "https://localhost:8080/"
        },
        "id": "sYBlGVI7KIz9",
        "outputId": "ee4fe5f7-2354-4382-8487-eef7ccf91581"
      },
      "execution_count": 190,
      "outputs": [
        {
          "output_type": "stream",
          "name": "stdout",
          "text": [
            "Index(['EmployeeID', 'EmployeeName', 'Department', 'Position', 'Salary',\n",
            "       'EmploymentType', 'HireDate', 'ResignationDate', 'BirthDate', 'Gender',\n",
            "       'MaritalStatus', 'emp_performance_ratings', 'Attrition'],\n",
            "      dtype='object')\n"
          ]
        }
      ]
    },
    {
      "cell_type": "code",
      "source": [
        "column_to_move = D_table.pop('Attrition') #This will remove the column and save it\n",
        "D_table.insert(8, 'Attrition', column_to_move) #This code will apply the saved column on the selected index\n",
        "\n",
        "print(D_table.to_string(index=True))"
      ],
      "metadata": {
        "id": "W1dTU5koYdrr",
        "colab": {
          "base_uri": "https://localhost:8080/"
        },
        "outputId": "52db6077-8980-4ce2-8c12-5c8345727a26"
      },
      "execution_count": 191,
      "outputs": [
        {
          "output_type": "stream",
          "name": "stdout",
          "text": [
            "    EmployeeID          EmployeeName Department        Position  Salary EmploymentType   HireDate ResignationDate Attrition  BirthDate    Gender MaritalStatus  emp_performance_ratings\n",
            "0            1         Chinedu Okoro      Sales         Manager   50000      Full-Time 2020-01-15      2022-05-30       YES 1985-03-12      Male       Married                        3\n",
            "1            3         Abdul Ibrahim         IT       Developer   45000      Part-Time 2021-03-05             NaT        NO 1992-11-18      Male       Married                        4\n",
            "2            4         Funke Adeleke         HR     Coordinator   35000      Full-Time 2018-09-20      2022-08-10       YES 1988-06-30    Female        Single                        5\n",
            "3            5      Adebayo Ogundipe      Sales  Representative   30000      Part-Time 2022-02-12             NaT        NO 1995-01-08      Male        Single                        1\n",
            "4            6          Zainab Ahmed         IT         Manager   55000      Full-Time 2017-07-01             NaT        NO 1987-09-02  ..Female       Married                        4\n",
            "5            7            Nnamdi Eze  Marketing        Designer   42000      Full-Time 2021-08-15      2022-07-10       YES 1991-04-22      Male        Single                        5\n",
            "6            8         Chioma Okafor      Sales  Representative   32000      Part-Time 2019-12-25             NaT        NO 1993-08-10   /Female        Single                        2\n",
            "7            9            Ahmed Musa         HR     Coordinator   35000      Full-Time 2019-01-27      2022-10-15       YES 1989-05-05      Male       Married                        4\n",
            "8           10           Amina Bello         IT       Developer   45000      Full-Time 2022-03-07             NaT        NO 1996-10-15    Female        Single                        4\n",
            "9           11          Emeka Okafor      Sales         Manager   48000      Full-Time 2020-04-18             NaT        NO 1986-02-28      Male       Married                        1\n",
            "10          12             Chika Eze  Marketing         Analyst   38000      Full-Time 2018-07-10      2022-09-25       YES 1991-06-15    Female        Single                        2\n",
            "11          13         Ngozi Adewale         IT       Developer   42000      Part-Time 2021-01-05             NaT        NO 1993-10-18  ..Female       Married                        4\n",
            "12          14       Olumide Adeyemi         HR     Coordinator   35000      Full-Time 2019-02-20             NaT        NO 1990-08-10      Male        Single                        1\n",
            "13          15      Ayodele Adekunle      Sales  Representative   28000      Part-Time 2022-06-12             NaT        NO 1994-03-08      Male        Single                        5\n",
            "14          16     Ifeoluwa Akindele         IT         Manager   58000      Full-Time 2017-10-01      2022-07-01       YES 1985-11-02     Feale       Married                        3\n",
            "15          17         Ibrahim Lawal  Marketing        Designer   40000      Full-Time 2021-12-15             NaT        NO 1993-05-22      Male        Single                        3\n",
            "16          18           fatima june      Sales  Representative   33000      Part-Time 2019-11-25             NaT        NO 1992-09-10   Fe male        Single                        2\n",
            "17          19     Abdulrahman Aliyu         HR     Coordinator   35000      Full-Time 2019-04-27      2022-11-15       YES 1987-05-05      Male       Married                        5\n",
            "18          20       Fatima Balarabe         IT       Developer   45000      Full-Time 2022-05-07             NaT        NO 1997-02-25    Female        Single                        4\n",
            "19          21     Oluwatosin Onuoha      Sales         Manager   50000      Full-Time 2020-08-12             NaT        NO 1989-04-10      Male       Married                        3\n",
            "20          22   Chinwendu Nwachukwu  Marketing         Analyst   40000      Full-Time 2019-09-10      2022-10-05       YES 1994-12-15    Female        Single                        4\n",
            "21          23        Mustapha Yusuf         IT       Developer   45000      Part-Time 2021-06-25             NaT        NO 1991-07-18      Male       Married                        4\n",
            "22          24       Yetunde Oladapo         HR     Coordinator   35000      Full-Time 2018-12-01             NaT        NO 1988-09-30    Female        Single                        1\n",
            "23          25           Adewale Ojo      Sales  Representative   30000      Part-Time 2022-03-22             NaT        NO 1995-05-25      Male        Single                        2\n",
            "24          26       Aishat Abubakar         IT         Manager   55000      Full-Time 2017-05-18      2022-08-15       YES 1986-08-02    Female       Married                        4\n",
            "25          27    Oluwasegun Adeleke  Marketing        Designer   42000      Full-Time 2022-02-05             NaT        NO 1992-11-22      Male        Single                        5\n",
            "26          28    Ijeoma Chukwuemeka      Sales  Representative   32000      Part-Time 2019-07-25             NaT        NO 1993-02-10    Female        Single                        3\n",
            "27          29  Abdulrahman Mohammed         HR     Coordinator   35000      Full-Time 2019-03-17      2022-09-30       YES 1989-07-05      Male       Married                        3\n",
            "28          30          Zainab Adamu         IT       Developer   45000      Full-Time 2022-01-07             NaT        NO 1996-04-15    Female        Single                        1\n",
            "29          31          Chijioke Obi      Sales         Manager   48000      Full-Time 2020-02-10             NaT        NO 1987-08-20      Male       Married                        4\n",
            "30          32      Amarachi Okonkwo  Marketing         Analyst   38000      Full-Time 2018-05-05      2022-06-20       YES 1990-12-05    Female        Single                        5\n",
            "31          33         Nasiru Hassan         IT       Developer   42000      Part-Time 2021-07-20             NaT        NO 1993-02-28      Male       Married                        2\n",
            "32          34       Temitope Akande         HR     Coordinator   35000      Full-Time 2019-10-12             NaT        NO 1988-06-15    Female        Single                        4\n",
            "33          35      Ayomide Olalekan      Sales  Representative   28000      Part-Time 2022-04-02             NaT        NO 1994-11-08      Male        Single                        3\n",
            "34          36       Chinyere Nnamdi         IT         Manager   58000      Full-Time 2017-08-15      2022-06-10       YES 1986-01-02    Female       Married                        4\n",
            "35          37           Idris Bello  Marketing        Designer   40000      Full-Time 2021-11-01             NaT        NO 1993-10-18      Male        Single                        5\n",
            "36          38            Adaobi Eze      Sales  Representative   33000      Part-Time 2019-06-25             NaT        NO 1992-08-10    Female        Single                        1\n",
            "37          39         Yusuf Ibrahim         HR     Coordinator   35000      Full-Time 2019-09-27      2022-11-10       YES 1987-04-05      Male       Married                        3\n",
            "38          40      Nafisat Suleiman         IT       Developer   45000      Full-Time 2022-07-07             NaT        NO 1997-01-20    Female        Single                        5\n",
            "39          41        Adewale Akande      Sales         Manager   50000      Full-Time 2020-10-12             NaT        NO 1989-03-15      Male       Married                        3\n",
            "40          42        Blessing Nwosu  Marketing         Analyst   40000      Full-Time 2019-11-05      2022-12-20       YES 1991-05-25    Female        Single                        2\n",
            "41          43          Farouk Aliyu         IT       Developer   45000      Part-Time 2021-09-10             NaT        NO 1990-02-18      Male       Married                        4\n",
            "42          44      Folasade Oladapo         HR     Coordinator   35000      Full-Time 2018-10-25             NaT        NO 1988-11-30    Female        Single                        3\n",
            "43          45         Babatunde Ojo      Sales  Representative   30000      Part-Time 2022-01-22             NaT        NO 1995-03-25      Male        Single                        4\n",
            "44          46       Nneka Nwachukwu         IT         Manager   55000      Full-Time 2017-03-18      2022-10-01       YES 1986-05-12    Female       Married                        4\n",
            "45          47       Olamide Adeyemi  Marketing        Designer   42000      Full-Time 2022-04-05             NaT        NO 1992-09-22      Male        Single                        1\n",
            "46          48  Chidinma Chukwuemeka      Sales  Representative   32000      Part-Time 2019-08-27             NaT        NO 1993-03-10    Female        Single                        2\n",
            "47          49       Abdullahi Ahmed         HR     Coordinator   35000      Full-Time 2019-05-10      2022-12-15       YES 1989-08-05      Male       Married                        5\n",
            "48          50          Fatima Bello         IT       Developer   45000      Full-Time 2022-08-07             NaT        NO 1996-11-20    Female        Single                        3\n"
          ]
        }
      ]
    },
    {
      "cell_type": "code",
      "source": [
        "#Checking for distinct values in 'Gender' column\n",
        "distinct_values = D_table['Gender'].unique()\n",
        "\n",
        "print(distinct_values)"
      ],
      "metadata": {
        "colab": {
          "base_uri": "https://localhost:8080/"
        },
        "id": "DjjogMhfK-HH",
        "outputId": "275ec8be-0726-4326-c43c-065ab5efb76a"
      },
      "execution_count": 192,
      "outputs": [
        {
          "output_type": "stream",
          "name": "stdout",
          "text": [
            "['Male' 'Female' '..Female' '/Female' 'Feale' 'Fe male']\n"
          ]
        }
      ]
    },
    {
      "cell_type": "code",
      "source": [
        "#effecting changes on distinct values in Gender column\n",
        "D_table['Gender'] = D_table['Gender'].str.replace('..Female','Female', regex=True)\n",
        "D_table['Gender'] = D_table['Gender'].str.replace('/Female','Female', regex=True)\n",
        "D_table['Gender'] = D_table['Gender'].str.replace('Feale','Female', regex=True)\n",
        "D_table['Gender'] = D_table['Gender'].str.replace('Fe male','Female', regex=True)\n",
        "\n"
      ],
      "metadata": {
        "id": "qDzA9ABHK6sI"
      },
      "execution_count": 193,
      "outputs": []
    },
    {
      "cell_type": "code",
      "source": [
        "#Checking for effected changes on distinct values in Gender column\n",
        "distinct_values = D_table['Gender'].unique()\n",
        "\n",
        "print(distinct_values)"
      ],
      "metadata": {
        "colab": {
          "base_uri": "https://localhost:8080/"
        },
        "id": "13Rk2mrdL5Sx",
        "outputId": "4999e435-978b-4bdd-feea-7fe77a339548"
      },
      "execution_count": 194,
      "outputs": [
        {
          "output_type": "stream",
          "name": "stdout",
          "text": [
            "['Male' 'Female']\n"
          ]
        }
      ]
    },
    {
      "cell_type": "markdown",
      "source": [
        "CREATING CONDITIONAL COLUMN FROM 'emp_performance_ratings'"
      ],
      "metadata": {
        "id": "VVGMOz-TMwwk"
      }
    },
    {
      "cell_type": "code",
      "source": [
        "#Using the apply() and custom function\n",
        "def performance_rating(emp_performance_rating):\n",
        "  if emp_performance_rating == 1:\n",
        "    return 'Poor'\n",
        "  elif emp_performance_rating == 2:\n",
        "    return 'Fair'\n",
        "  elif emp_performance_rating == 3:\n",
        "    return 'Good'\n",
        "  elif emp_performance_rating == 4:\n",
        "    return 'Very Good'\n",
        "  else:\n",
        "    return 'Excellent'\n",
        "#Create a new column for performance ratings\n",
        "D_table['PerformanceRating'] = D_table['emp_performance_ratings'].apply(performance_rating)"
      ],
      "metadata": {
        "id": "kzBPrOERSnXw"
      },
      "execution_count": 195,
      "outputs": []
    },
    {
      "cell_type": "code",
      "source": [
        "print(D_table.to_string(index=True))"
      ],
      "metadata": {
        "colab": {
          "base_uri": "https://localhost:8080/"
        },
        "id": "w7DrxS35Pr5a",
        "outputId": "4dedb6b9-1a75-4e7f-fd80-90f993a10b20"
      },
      "execution_count": 196,
      "outputs": [
        {
          "output_type": "stream",
          "name": "stdout",
          "text": [
            "    EmployeeID          EmployeeName Department        Position  Salary EmploymentType   HireDate ResignationDate Attrition  BirthDate  Gender MaritalStatus  emp_performance_ratings PerformanceRating\n",
            "0            1         Chinedu Okoro      Sales         Manager   50000      Full-Time 2020-01-15      2022-05-30       YES 1985-03-12    Male       Married                        3              Good\n",
            "1            3         Abdul Ibrahim         IT       Developer   45000      Part-Time 2021-03-05             NaT        NO 1992-11-18    Male       Married                        4         Very Good\n",
            "2            4         Funke Adeleke         HR     Coordinator   35000      Full-Time 2018-09-20      2022-08-10       YES 1988-06-30  Female        Single                        5         Excellent\n",
            "3            5      Adebayo Ogundipe      Sales  Representative   30000      Part-Time 2022-02-12             NaT        NO 1995-01-08    Male        Single                        1              Poor\n",
            "4            6          Zainab Ahmed         IT         Manager   55000      Full-Time 2017-07-01             NaT        NO 1987-09-02  Female       Married                        4         Very Good\n",
            "5            7            Nnamdi Eze  Marketing        Designer   42000      Full-Time 2021-08-15      2022-07-10       YES 1991-04-22    Male        Single                        5         Excellent\n",
            "6            8         Chioma Okafor      Sales  Representative   32000      Part-Time 2019-12-25             NaT        NO 1993-08-10  Female        Single                        2              Fair\n",
            "7            9            Ahmed Musa         HR     Coordinator   35000      Full-Time 2019-01-27      2022-10-15       YES 1989-05-05    Male       Married                        4         Very Good\n",
            "8           10           Amina Bello         IT       Developer   45000      Full-Time 2022-03-07             NaT        NO 1996-10-15  Female        Single                        4         Very Good\n",
            "9           11          Emeka Okafor      Sales         Manager   48000      Full-Time 2020-04-18             NaT        NO 1986-02-28    Male       Married                        1              Poor\n",
            "10          12             Chika Eze  Marketing         Analyst   38000      Full-Time 2018-07-10      2022-09-25       YES 1991-06-15  Female        Single                        2              Fair\n",
            "11          13         Ngozi Adewale         IT       Developer   42000      Part-Time 2021-01-05             NaT        NO 1993-10-18  Female       Married                        4         Very Good\n",
            "12          14       Olumide Adeyemi         HR     Coordinator   35000      Full-Time 2019-02-20             NaT        NO 1990-08-10    Male        Single                        1              Poor\n",
            "13          15      Ayodele Adekunle      Sales  Representative   28000      Part-Time 2022-06-12             NaT        NO 1994-03-08    Male        Single                        5         Excellent\n",
            "14          16     Ifeoluwa Akindele         IT         Manager   58000      Full-Time 2017-10-01      2022-07-01       YES 1985-11-02  Female       Married                        3              Good\n",
            "15          17         Ibrahim Lawal  Marketing        Designer   40000      Full-Time 2021-12-15             NaT        NO 1993-05-22    Male        Single                        3              Good\n",
            "16          18           fatima june      Sales  Representative   33000      Part-Time 2019-11-25             NaT        NO 1992-09-10  Female        Single                        2              Fair\n",
            "17          19     Abdulrahman Aliyu         HR     Coordinator   35000      Full-Time 2019-04-27      2022-11-15       YES 1987-05-05    Male       Married                        5         Excellent\n",
            "18          20       Fatima Balarabe         IT       Developer   45000      Full-Time 2022-05-07             NaT        NO 1997-02-25  Female        Single                        4         Very Good\n",
            "19          21     Oluwatosin Onuoha      Sales         Manager   50000      Full-Time 2020-08-12             NaT        NO 1989-04-10    Male       Married                        3              Good\n",
            "20          22   Chinwendu Nwachukwu  Marketing         Analyst   40000      Full-Time 2019-09-10      2022-10-05       YES 1994-12-15  Female        Single                        4         Very Good\n",
            "21          23        Mustapha Yusuf         IT       Developer   45000      Part-Time 2021-06-25             NaT        NO 1991-07-18    Male       Married                        4         Very Good\n",
            "22          24       Yetunde Oladapo         HR     Coordinator   35000      Full-Time 2018-12-01             NaT        NO 1988-09-30  Female        Single                        1              Poor\n",
            "23          25           Adewale Ojo      Sales  Representative   30000      Part-Time 2022-03-22             NaT        NO 1995-05-25    Male        Single                        2              Fair\n",
            "24          26       Aishat Abubakar         IT         Manager   55000      Full-Time 2017-05-18      2022-08-15       YES 1986-08-02  Female       Married                        4         Very Good\n",
            "25          27    Oluwasegun Adeleke  Marketing        Designer   42000      Full-Time 2022-02-05             NaT        NO 1992-11-22    Male        Single                        5         Excellent\n",
            "26          28    Ijeoma Chukwuemeka      Sales  Representative   32000      Part-Time 2019-07-25             NaT        NO 1993-02-10  Female        Single                        3              Good\n",
            "27          29  Abdulrahman Mohammed         HR     Coordinator   35000      Full-Time 2019-03-17      2022-09-30       YES 1989-07-05    Male       Married                        3              Good\n",
            "28          30          Zainab Adamu         IT       Developer   45000      Full-Time 2022-01-07             NaT        NO 1996-04-15  Female        Single                        1              Poor\n",
            "29          31          Chijioke Obi      Sales         Manager   48000      Full-Time 2020-02-10             NaT        NO 1987-08-20    Male       Married                        4         Very Good\n",
            "30          32      Amarachi Okonkwo  Marketing         Analyst   38000      Full-Time 2018-05-05      2022-06-20       YES 1990-12-05  Female        Single                        5         Excellent\n",
            "31          33         Nasiru Hassan         IT       Developer   42000      Part-Time 2021-07-20             NaT        NO 1993-02-28    Male       Married                        2              Fair\n",
            "32          34       Temitope Akande         HR     Coordinator   35000      Full-Time 2019-10-12             NaT        NO 1988-06-15  Female        Single                        4         Very Good\n",
            "33          35      Ayomide Olalekan      Sales  Representative   28000      Part-Time 2022-04-02             NaT        NO 1994-11-08    Male        Single                        3              Good\n",
            "34          36       Chinyere Nnamdi         IT         Manager   58000      Full-Time 2017-08-15      2022-06-10       YES 1986-01-02  Female       Married                        4         Very Good\n",
            "35          37           Idris Bello  Marketing        Designer   40000      Full-Time 2021-11-01             NaT        NO 1993-10-18    Male        Single                        5         Excellent\n",
            "36          38            Adaobi Eze      Sales  Representative   33000      Part-Time 2019-06-25             NaT        NO 1992-08-10  Female        Single                        1              Poor\n",
            "37          39         Yusuf Ibrahim         HR     Coordinator   35000      Full-Time 2019-09-27      2022-11-10       YES 1987-04-05    Male       Married                        3              Good\n",
            "38          40      Nafisat Suleiman         IT       Developer   45000      Full-Time 2022-07-07             NaT        NO 1997-01-20  Female        Single                        5         Excellent\n",
            "39          41        Adewale Akande      Sales         Manager   50000      Full-Time 2020-10-12             NaT        NO 1989-03-15    Male       Married                        3              Good\n",
            "40          42        Blessing Nwosu  Marketing         Analyst   40000      Full-Time 2019-11-05      2022-12-20       YES 1991-05-25  Female        Single                        2              Fair\n",
            "41          43          Farouk Aliyu         IT       Developer   45000      Part-Time 2021-09-10             NaT        NO 1990-02-18    Male       Married                        4         Very Good\n",
            "42          44      Folasade Oladapo         HR     Coordinator   35000      Full-Time 2018-10-25             NaT        NO 1988-11-30  Female        Single                        3              Good\n",
            "43          45         Babatunde Ojo      Sales  Representative   30000      Part-Time 2022-01-22             NaT        NO 1995-03-25    Male        Single                        4         Very Good\n",
            "44          46       Nneka Nwachukwu         IT         Manager   55000      Full-Time 2017-03-18      2022-10-01       YES 1986-05-12  Female       Married                        4         Very Good\n",
            "45          47       Olamide Adeyemi  Marketing        Designer   42000      Full-Time 2022-04-05             NaT        NO 1992-09-22    Male        Single                        1              Poor\n",
            "46          48  Chidinma Chukwuemeka      Sales  Representative   32000      Part-Time 2019-08-27             NaT        NO 1993-03-10  Female        Single                        2              Fair\n",
            "47          49       Abdullahi Ahmed         HR     Coordinator   35000      Full-Time 2019-05-10      2022-12-15       YES 1989-08-05    Male       Married                        5         Excellent\n",
            "48          50          Fatima Bello         IT       Developer   45000      Full-Time 2022-08-07             NaT        NO 1996-11-20  Female        Single                        3              Good\n"
          ]
        }
      ]
    },
    {
      "cell_type": "code",
      "source": [
        "D_table['BirthDate'] = pd.to_datetime(D_table['BirthDate'])\n",
        "#To convert this column to datetime"
      ],
      "metadata": {
        "id": "YQZ6XznGNIYY"
      },
      "execution_count": 197,
      "outputs": []
    },
    {
      "cell_type": "code",
      "source": [
        "# Function to calculate age from birthdate\n",
        "\n",
        "def calculate_age(BirthDate):\n",
        "    today = pd.to_datetime('today')\n",
        "    age = today.year - BirthDate.year - ((today.month, today.day) < (BirthDate.month, BirthDate.day))\n",
        "    return age\n",
        "\n",
        "# Add new column 'Age'\n",
        "D_table['Age'] = D_table['BirthDate'].apply(calculate_age)\n",
        "\n",
        "# Display the DataFrame\n",
        "print(D_table.to_string(index = True))"
      ],
      "metadata": {
        "id": "Ohh2ADS-GZqb",
        "colab": {
          "base_uri": "https://localhost:8080/"
        },
        "outputId": "ef359606-2d03-4cae-c41d-da02f666bf6e"
      },
      "execution_count": 198,
      "outputs": [
        {
          "output_type": "stream",
          "name": "stdout",
          "text": [
            "    EmployeeID          EmployeeName Department        Position  Salary EmploymentType   HireDate ResignationDate Attrition  BirthDate  Gender MaritalStatus  emp_performance_ratings PerformanceRating  Age\n",
            "0            1         Chinedu Okoro      Sales         Manager   50000      Full-Time 2020-01-15      2022-05-30       YES 1985-03-12    Male       Married                        3              Good   39\n",
            "1            3         Abdul Ibrahim         IT       Developer   45000      Part-Time 2021-03-05             NaT        NO 1992-11-18    Male       Married                        4         Very Good   32\n",
            "2            4         Funke Adeleke         HR     Coordinator   35000      Full-Time 2018-09-20      2022-08-10       YES 1988-06-30  Female        Single                        5         Excellent   36\n",
            "3            5      Adebayo Ogundipe      Sales  Representative   30000      Part-Time 2022-02-12             NaT        NO 1995-01-08    Male        Single                        1              Poor   30\n",
            "4            6          Zainab Ahmed         IT         Manager   55000      Full-Time 2017-07-01             NaT        NO 1987-09-02  Female       Married                        4         Very Good   37\n",
            "5            7            Nnamdi Eze  Marketing        Designer   42000      Full-Time 2021-08-15      2022-07-10       YES 1991-04-22    Male        Single                        5         Excellent   33\n",
            "6            8         Chioma Okafor      Sales  Representative   32000      Part-Time 2019-12-25             NaT        NO 1993-08-10  Female        Single                        2              Fair   31\n",
            "7            9            Ahmed Musa         HR     Coordinator   35000      Full-Time 2019-01-27      2022-10-15       YES 1989-05-05    Male       Married                        4         Very Good   35\n",
            "8           10           Amina Bello         IT       Developer   45000      Full-Time 2022-03-07             NaT        NO 1996-10-15  Female        Single                        4         Very Good   28\n",
            "9           11          Emeka Okafor      Sales         Manager   48000      Full-Time 2020-04-18             NaT        NO 1986-02-28    Male       Married                        1              Poor   38\n",
            "10          12             Chika Eze  Marketing         Analyst   38000      Full-Time 2018-07-10      2022-09-25       YES 1991-06-15  Female        Single                        2              Fair   33\n",
            "11          13         Ngozi Adewale         IT       Developer   42000      Part-Time 2021-01-05             NaT        NO 1993-10-18  Female       Married                        4         Very Good   31\n",
            "12          14       Olumide Adeyemi         HR     Coordinator   35000      Full-Time 2019-02-20             NaT        NO 1990-08-10    Male        Single                        1              Poor   34\n",
            "13          15      Ayodele Adekunle      Sales  Representative   28000      Part-Time 2022-06-12             NaT        NO 1994-03-08    Male        Single                        5         Excellent   30\n",
            "14          16     Ifeoluwa Akindele         IT         Manager   58000      Full-Time 2017-10-01      2022-07-01       YES 1985-11-02  Female       Married                        3              Good   39\n",
            "15          17         Ibrahim Lawal  Marketing        Designer   40000      Full-Time 2021-12-15             NaT        NO 1993-05-22    Male        Single                        3              Good   31\n",
            "16          18           fatima june      Sales  Representative   33000      Part-Time 2019-11-25             NaT        NO 1992-09-10  Female        Single                        2              Fair   32\n",
            "17          19     Abdulrahman Aliyu         HR     Coordinator   35000      Full-Time 2019-04-27      2022-11-15       YES 1987-05-05    Male       Married                        5         Excellent   37\n",
            "18          20       Fatima Balarabe         IT       Developer   45000      Full-Time 2022-05-07             NaT        NO 1997-02-25  Female        Single                        4         Very Good   27\n",
            "19          21     Oluwatosin Onuoha      Sales         Manager   50000      Full-Time 2020-08-12             NaT        NO 1989-04-10    Male       Married                        3              Good   35\n",
            "20          22   Chinwendu Nwachukwu  Marketing         Analyst   40000      Full-Time 2019-09-10      2022-10-05       YES 1994-12-15  Female        Single                        4         Very Good   30\n",
            "21          23        Mustapha Yusuf         IT       Developer   45000      Part-Time 2021-06-25             NaT        NO 1991-07-18    Male       Married                        4         Very Good   33\n",
            "22          24       Yetunde Oladapo         HR     Coordinator   35000      Full-Time 2018-12-01             NaT        NO 1988-09-30  Female        Single                        1              Poor   36\n",
            "23          25           Adewale Ojo      Sales  Representative   30000      Part-Time 2022-03-22             NaT        NO 1995-05-25    Male        Single                        2              Fair   29\n",
            "24          26       Aishat Abubakar         IT         Manager   55000      Full-Time 2017-05-18      2022-08-15       YES 1986-08-02  Female       Married                        4         Very Good   38\n",
            "25          27    Oluwasegun Adeleke  Marketing        Designer   42000      Full-Time 2022-02-05             NaT        NO 1992-11-22    Male        Single                        5         Excellent   32\n",
            "26          28    Ijeoma Chukwuemeka      Sales  Representative   32000      Part-Time 2019-07-25             NaT        NO 1993-02-10  Female        Single                        3              Good   32\n",
            "27          29  Abdulrahman Mohammed         HR     Coordinator   35000      Full-Time 2019-03-17      2022-09-30       YES 1989-07-05    Male       Married                        3              Good   35\n",
            "28          30          Zainab Adamu         IT       Developer   45000      Full-Time 2022-01-07             NaT        NO 1996-04-15  Female        Single                        1              Poor   28\n",
            "29          31          Chijioke Obi      Sales         Manager   48000      Full-Time 2020-02-10             NaT        NO 1987-08-20    Male       Married                        4         Very Good   37\n",
            "30          32      Amarachi Okonkwo  Marketing         Analyst   38000      Full-Time 2018-05-05      2022-06-20       YES 1990-12-05  Female        Single                        5         Excellent   34\n",
            "31          33         Nasiru Hassan         IT       Developer   42000      Part-Time 2021-07-20             NaT        NO 1993-02-28    Male       Married                        2              Fair   31\n",
            "32          34       Temitope Akande         HR     Coordinator   35000      Full-Time 2019-10-12             NaT        NO 1988-06-15  Female        Single                        4         Very Good   36\n",
            "33          35      Ayomide Olalekan      Sales  Representative   28000      Part-Time 2022-04-02             NaT        NO 1994-11-08    Male        Single                        3              Good   30\n",
            "34          36       Chinyere Nnamdi         IT         Manager   58000      Full-Time 2017-08-15      2022-06-10       YES 1986-01-02  Female       Married                        4         Very Good   39\n",
            "35          37           Idris Bello  Marketing        Designer   40000      Full-Time 2021-11-01             NaT        NO 1993-10-18    Male        Single                        5         Excellent   31\n",
            "36          38            Adaobi Eze      Sales  Representative   33000      Part-Time 2019-06-25             NaT        NO 1992-08-10  Female        Single                        1              Poor   32\n",
            "37          39         Yusuf Ibrahim         HR     Coordinator   35000      Full-Time 2019-09-27      2022-11-10       YES 1987-04-05    Male       Married                        3              Good   37\n",
            "38          40      Nafisat Suleiman         IT       Developer   45000      Full-Time 2022-07-07             NaT        NO 1997-01-20  Female        Single                        5         Excellent   28\n",
            "39          41        Adewale Akande      Sales         Manager   50000      Full-Time 2020-10-12             NaT        NO 1989-03-15    Male       Married                        3              Good   35\n",
            "40          42        Blessing Nwosu  Marketing         Analyst   40000      Full-Time 2019-11-05      2022-12-20       YES 1991-05-25  Female        Single                        2              Fair   33\n",
            "41          43          Farouk Aliyu         IT       Developer   45000      Part-Time 2021-09-10             NaT        NO 1990-02-18    Male       Married                        4         Very Good   34\n",
            "42          44      Folasade Oladapo         HR     Coordinator   35000      Full-Time 2018-10-25             NaT        NO 1988-11-30  Female        Single                        3              Good   36\n",
            "43          45         Babatunde Ojo      Sales  Representative   30000      Part-Time 2022-01-22             NaT        NO 1995-03-25    Male        Single                        4         Very Good   29\n",
            "44          46       Nneka Nwachukwu         IT         Manager   55000      Full-Time 2017-03-18      2022-10-01       YES 1986-05-12  Female       Married                        4         Very Good   38\n",
            "45          47       Olamide Adeyemi  Marketing        Designer   42000      Full-Time 2022-04-05             NaT        NO 1992-09-22    Male        Single                        1              Poor   32\n",
            "46          48  Chidinma Chukwuemeka      Sales  Representative   32000      Part-Time 2019-08-27             NaT        NO 1993-03-10  Female        Single                        2              Fair   31\n",
            "47          49       Abdullahi Ahmed         HR     Coordinator   35000      Full-Time 2019-05-10      2022-12-15       YES 1989-08-05    Male       Married                        5         Excellent   35\n",
            "48          50          Fatima Bello         IT       Developer   45000      Full-Time 2022-08-07             NaT        NO 1996-11-20  Female        Single                        3              Good   28\n"
          ]
        }
      ]
    },
    {
      "cell_type": "markdown",
      "source": [
        "TO MOVE THE INDEX POSITION OF A SELECTED COLUMN"
      ],
      "metadata": {
        "id": "FldoKzMPLy-k"
      }
    },
    {
      "cell_type": "code",
      "source": [
        "column_to_move = D_table.pop('Age') #This will remove the column and save it\n",
        "D_table.insert(10, 'Age', column_to_move) #This code will apply the saved column on the selected index\n",
        "\n",
        "print(D_table.to_string(index=True))"
      ],
      "metadata": {
        "id": "aP0JnkghJK0y",
        "colab": {
          "base_uri": "https://localhost:8080/"
        },
        "outputId": "f7b77382-941a-4502-b1c1-fef2903c885c"
      },
      "execution_count": 199,
      "outputs": [
        {
          "output_type": "stream",
          "name": "stdout",
          "text": [
            "    EmployeeID          EmployeeName Department        Position  Salary EmploymentType   HireDate ResignationDate Attrition  BirthDate  Age  Gender MaritalStatus  emp_performance_ratings PerformanceRating\n",
            "0            1         Chinedu Okoro      Sales         Manager   50000      Full-Time 2020-01-15      2022-05-30       YES 1985-03-12   39    Male       Married                        3              Good\n",
            "1            3         Abdul Ibrahim         IT       Developer   45000      Part-Time 2021-03-05             NaT        NO 1992-11-18   32    Male       Married                        4         Very Good\n",
            "2            4         Funke Adeleke         HR     Coordinator   35000      Full-Time 2018-09-20      2022-08-10       YES 1988-06-30   36  Female        Single                        5         Excellent\n",
            "3            5      Adebayo Ogundipe      Sales  Representative   30000      Part-Time 2022-02-12             NaT        NO 1995-01-08   30    Male        Single                        1              Poor\n",
            "4            6          Zainab Ahmed         IT         Manager   55000      Full-Time 2017-07-01             NaT        NO 1987-09-02   37  Female       Married                        4         Very Good\n",
            "5            7            Nnamdi Eze  Marketing        Designer   42000      Full-Time 2021-08-15      2022-07-10       YES 1991-04-22   33    Male        Single                        5         Excellent\n",
            "6            8         Chioma Okafor      Sales  Representative   32000      Part-Time 2019-12-25             NaT        NO 1993-08-10   31  Female        Single                        2              Fair\n",
            "7            9            Ahmed Musa         HR     Coordinator   35000      Full-Time 2019-01-27      2022-10-15       YES 1989-05-05   35    Male       Married                        4         Very Good\n",
            "8           10           Amina Bello         IT       Developer   45000      Full-Time 2022-03-07             NaT        NO 1996-10-15   28  Female        Single                        4         Very Good\n",
            "9           11          Emeka Okafor      Sales         Manager   48000      Full-Time 2020-04-18             NaT        NO 1986-02-28   38    Male       Married                        1              Poor\n",
            "10          12             Chika Eze  Marketing         Analyst   38000      Full-Time 2018-07-10      2022-09-25       YES 1991-06-15   33  Female        Single                        2              Fair\n",
            "11          13         Ngozi Adewale         IT       Developer   42000      Part-Time 2021-01-05             NaT        NO 1993-10-18   31  Female       Married                        4         Very Good\n",
            "12          14       Olumide Adeyemi         HR     Coordinator   35000      Full-Time 2019-02-20             NaT        NO 1990-08-10   34    Male        Single                        1              Poor\n",
            "13          15      Ayodele Adekunle      Sales  Representative   28000      Part-Time 2022-06-12             NaT        NO 1994-03-08   30    Male        Single                        5         Excellent\n",
            "14          16     Ifeoluwa Akindele         IT         Manager   58000      Full-Time 2017-10-01      2022-07-01       YES 1985-11-02   39  Female       Married                        3              Good\n",
            "15          17         Ibrahim Lawal  Marketing        Designer   40000      Full-Time 2021-12-15             NaT        NO 1993-05-22   31    Male        Single                        3              Good\n",
            "16          18           fatima june      Sales  Representative   33000      Part-Time 2019-11-25             NaT        NO 1992-09-10   32  Female        Single                        2              Fair\n",
            "17          19     Abdulrahman Aliyu         HR     Coordinator   35000      Full-Time 2019-04-27      2022-11-15       YES 1987-05-05   37    Male       Married                        5         Excellent\n",
            "18          20       Fatima Balarabe         IT       Developer   45000      Full-Time 2022-05-07             NaT        NO 1997-02-25   27  Female        Single                        4         Very Good\n",
            "19          21     Oluwatosin Onuoha      Sales         Manager   50000      Full-Time 2020-08-12             NaT        NO 1989-04-10   35    Male       Married                        3              Good\n",
            "20          22   Chinwendu Nwachukwu  Marketing         Analyst   40000      Full-Time 2019-09-10      2022-10-05       YES 1994-12-15   30  Female        Single                        4         Very Good\n",
            "21          23        Mustapha Yusuf         IT       Developer   45000      Part-Time 2021-06-25             NaT        NO 1991-07-18   33    Male       Married                        4         Very Good\n",
            "22          24       Yetunde Oladapo         HR     Coordinator   35000      Full-Time 2018-12-01             NaT        NO 1988-09-30   36  Female        Single                        1              Poor\n",
            "23          25           Adewale Ojo      Sales  Representative   30000      Part-Time 2022-03-22             NaT        NO 1995-05-25   29    Male        Single                        2              Fair\n",
            "24          26       Aishat Abubakar         IT         Manager   55000      Full-Time 2017-05-18      2022-08-15       YES 1986-08-02   38  Female       Married                        4         Very Good\n",
            "25          27    Oluwasegun Adeleke  Marketing        Designer   42000      Full-Time 2022-02-05             NaT        NO 1992-11-22   32    Male        Single                        5         Excellent\n",
            "26          28    Ijeoma Chukwuemeka      Sales  Representative   32000      Part-Time 2019-07-25             NaT        NO 1993-02-10   32  Female        Single                        3              Good\n",
            "27          29  Abdulrahman Mohammed         HR     Coordinator   35000      Full-Time 2019-03-17      2022-09-30       YES 1989-07-05   35    Male       Married                        3              Good\n",
            "28          30          Zainab Adamu         IT       Developer   45000      Full-Time 2022-01-07             NaT        NO 1996-04-15   28  Female        Single                        1              Poor\n",
            "29          31          Chijioke Obi      Sales         Manager   48000      Full-Time 2020-02-10             NaT        NO 1987-08-20   37    Male       Married                        4         Very Good\n",
            "30          32      Amarachi Okonkwo  Marketing         Analyst   38000      Full-Time 2018-05-05      2022-06-20       YES 1990-12-05   34  Female        Single                        5         Excellent\n",
            "31          33         Nasiru Hassan         IT       Developer   42000      Part-Time 2021-07-20             NaT        NO 1993-02-28   31    Male       Married                        2              Fair\n",
            "32          34       Temitope Akande         HR     Coordinator   35000      Full-Time 2019-10-12             NaT        NO 1988-06-15   36  Female        Single                        4         Very Good\n",
            "33          35      Ayomide Olalekan      Sales  Representative   28000      Part-Time 2022-04-02             NaT        NO 1994-11-08   30    Male        Single                        3              Good\n",
            "34          36       Chinyere Nnamdi         IT         Manager   58000      Full-Time 2017-08-15      2022-06-10       YES 1986-01-02   39  Female       Married                        4         Very Good\n",
            "35          37           Idris Bello  Marketing        Designer   40000      Full-Time 2021-11-01             NaT        NO 1993-10-18   31    Male        Single                        5         Excellent\n",
            "36          38            Adaobi Eze      Sales  Representative   33000      Part-Time 2019-06-25             NaT        NO 1992-08-10   32  Female        Single                        1              Poor\n",
            "37          39         Yusuf Ibrahim         HR     Coordinator   35000      Full-Time 2019-09-27      2022-11-10       YES 1987-04-05   37    Male       Married                        3              Good\n",
            "38          40      Nafisat Suleiman         IT       Developer   45000      Full-Time 2022-07-07             NaT        NO 1997-01-20   28  Female        Single                        5         Excellent\n",
            "39          41        Adewale Akande      Sales         Manager   50000      Full-Time 2020-10-12             NaT        NO 1989-03-15   35    Male       Married                        3              Good\n",
            "40          42        Blessing Nwosu  Marketing         Analyst   40000      Full-Time 2019-11-05      2022-12-20       YES 1991-05-25   33  Female        Single                        2              Fair\n",
            "41          43          Farouk Aliyu         IT       Developer   45000      Part-Time 2021-09-10             NaT        NO 1990-02-18   34    Male       Married                        4         Very Good\n",
            "42          44      Folasade Oladapo         HR     Coordinator   35000      Full-Time 2018-10-25             NaT        NO 1988-11-30   36  Female        Single                        3              Good\n",
            "43          45         Babatunde Ojo      Sales  Representative   30000      Part-Time 2022-01-22             NaT        NO 1995-03-25   29    Male        Single                        4         Very Good\n",
            "44          46       Nneka Nwachukwu         IT         Manager   55000      Full-Time 2017-03-18      2022-10-01       YES 1986-05-12   38  Female       Married                        4         Very Good\n",
            "45          47       Olamide Adeyemi  Marketing        Designer   42000      Full-Time 2022-04-05             NaT        NO 1992-09-22   32    Male        Single                        1              Poor\n",
            "46          48  Chidinma Chukwuemeka      Sales  Representative   32000      Part-Time 2019-08-27             NaT        NO 1993-03-10   31  Female        Single                        2              Fair\n",
            "47          49       Abdullahi Ahmed         HR     Coordinator   35000      Full-Time 2019-05-10      2022-12-15       YES 1989-08-05   35    Male       Married                        5         Excellent\n",
            "48          50          Fatima Bello         IT       Developer   45000      Full-Time 2022-08-07             NaT        NO 1996-11-20   28  Female        Single                        3              Good\n"
          ]
        }
      ]
    },
    {
      "cell_type": "markdown",
      "source": [
        "ADDING AGE COLUMN INTO AGE RANGE"
      ],
      "metadata": {
        "id": "argWLHXudaxQ"
      }
    },
    {
      "cell_type": "code",
      "source": [
        "#Finding the minimum and maximum age values\n",
        "min_value = D_table['Age'].min()\n",
        "max_value = D_table['Age'].max()\n",
        "\n",
        "print(min_value)\n",
        "print(max_value)"
      ],
      "metadata": {
        "id": "tmeIYoE1_oKE",
        "colab": {
          "base_uri": "https://localhost:8080/"
        },
        "outputId": "9a25be2e-b59d-4ecf-b784-065859ab2eb5"
      },
      "execution_count": 200,
      "outputs": [
        {
          "output_type": "stream",
          "name": "stdout",
          "text": [
            "27\n",
            "39\n"
          ]
        }
      ]
    },
    {
      "cell_type": "code",
      "source": [
        "D_table['Age_Range']=np.where(D_table['Age'] <= 29, '27-29', '30-39')"
      ],
      "metadata": {
        "id": "rXv7cCsIEE2b"
      },
      "execution_count": 201,
      "outputs": []
    },
    {
      "cell_type": "code",
      "source": [
        "print(D_table.to_string(index=True))"
      ],
      "metadata": {
        "colab": {
          "base_uri": "https://localhost:8080/"
        },
        "id": "it33WRs1eyAh",
        "outputId": "a383991b-cfe5-43c5-9b95-9566176e1760"
      },
      "execution_count": 202,
      "outputs": [
        {
          "output_type": "stream",
          "name": "stdout",
          "text": [
            "    EmployeeID          EmployeeName Department        Position  Salary EmploymentType   HireDate ResignationDate Attrition  BirthDate  Age  Gender MaritalStatus  emp_performance_ratings PerformanceRating Age_Range\n",
            "0            1         Chinedu Okoro      Sales         Manager   50000      Full-Time 2020-01-15      2022-05-30       YES 1985-03-12   39    Male       Married                        3              Good     30-39\n",
            "1            3         Abdul Ibrahim         IT       Developer   45000      Part-Time 2021-03-05             NaT        NO 1992-11-18   32    Male       Married                        4         Very Good     30-39\n",
            "2            4         Funke Adeleke         HR     Coordinator   35000      Full-Time 2018-09-20      2022-08-10       YES 1988-06-30   36  Female        Single                        5         Excellent     30-39\n",
            "3            5      Adebayo Ogundipe      Sales  Representative   30000      Part-Time 2022-02-12             NaT        NO 1995-01-08   30    Male        Single                        1              Poor     30-39\n",
            "4            6          Zainab Ahmed         IT         Manager   55000      Full-Time 2017-07-01             NaT        NO 1987-09-02   37  Female       Married                        4         Very Good     30-39\n",
            "5            7            Nnamdi Eze  Marketing        Designer   42000      Full-Time 2021-08-15      2022-07-10       YES 1991-04-22   33    Male        Single                        5         Excellent     30-39\n",
            "6            8         Chioma Okafor      Sales  Representative   32000      Part-Time 2019-12-25             NaT        NO 1993-08-10   31  Female        Single                        2              Fair     30-39\n",
            "7            9            Ahmed Musa         HR     Coordinator   35000      Full-Time 2019-01-27      2022-10-15       YES 1989-05-05   35    Male       Married                        4         Very Good     30-39\n",
            "8           10           Amina Bello         IT       Developer   45000      Full-Time 2022-03-07             NaT        NO 1996-10-15   28  Female        Single                        4         Very Good     27-29\n",
            "9           11          Emeka Okafor      Sales         Manager   48000      Full-Time 2020-04-18             NaT        NO 1986-02-28   38    Male       Married                        1              Poor     30-39\n",
            "10          12             Chika Eze  Marketing         Analyst   38000      Full-Time 2018-07-10      2022-09-25       YES 1991-06-15   33  Female        Single                        2              Fair     30-39\n",
            "11          13         Ngozi Adewale         IT       Developer   42000      Part-Time 2021-01-05             NaT        NO 1993-10-18   31  Female       Married                        4         Very Good     30-39\n",
            "12          14       Olumide Adeyemi         HR     Coordinator   35000      Full-Time 2019-02-20             NaT        NO 1990-08-10   34    Male        Single                        1              Poor     30-39\n",
            "13          15      Ayodele Adekunle      Sales  Representative   28000      Part-Time 2022-06-12             NaT        NO 1994-03-08   30    Male        Single                        5         Excellent     30-39\n",
            "14          16     Ifeoluwa Akindele         IT         Manager   58000      Full-Time 2017-10-01      2022-07-01       YES 1985-11-02   39  Female       Married                        3              Good     30-39\n",
            "15          17         Ibrahim Lawal  Marketing        Designer   40000      Full-Time 2021-12-15             NaT        NO 1993-05-22   31    Male        Single                        3              Good     30-39\n",
            "16          18           fatima june      Sales  Representative   33000      Part-Time 2019-11-25             NaT        NO 1992-09-10   32  Female        Single                        2              Fair     30-39\n",
            "17          19     Abdulrahman Aliyu         HR     Coordinator   35000      Full-Time 2019-04-27      2022-11-15       YES 1987-05-05   37    Male       Married                        5         Excellent     30-39\n",
            "18          20       Fatima Balarabe         IT       Developer   45000      Full-Time 2022-05-07             NaT        NO 1997-02-25   27  Female        Single                        4         Very Good     27-29\n",
            "19          21     Oluwatosin Onuoha      Sales         Manager   50000      Full-Time 2020-08-12             NaT        NO 1989-04-10   35    Male       Married                        3              Good     30-39\n",
            "20          22   Chinwendu Nwachukwu  Marketing         Analyst   40000      Full-Time 2019-09-10      2022-10-05       YES 1994-12-15   30  Female        Single                        4         Very Good     30-39\n",
            "21          23        Mustapha Yusuf         IT       Developer   45000      Part-Time 2021-06-25             NaT        NO 1991-07-18   33    Male       Married                        4         Very Good     30-39\n",
            "22          24       Yetunde Oladapo         HR     Coordinator   35000      Full-Time 2018-12-01             NaT        NO 1988-09-30   36  Female        Single                        1              Poor     30-39\n",
            "23          25           Adewale Ojo      Sales  Representative   30000      Part-Time 2022-03-22             NaT        NO 1995-05-25   29    Male        Single                        2              Fair     27-29\n",
            "24          26       Aishat Abubakar         IT         Manager   55000      Full-Time 2017-05-18      2022-08-15       YES 1986-08-02   38  Female       Married                        4         Very Good     30-39\n",
            "25          27    Oluwasegun Adeleke  Marketing        Designer   42000      Full-Time 2022-02-05             NaT        NO 1992-11-22   32    Male        Single                        5         Excellent     30-39\n",
            "26          28    Ijeoma Chukwuemeka      Sales  Representative   32000      Part-Time 2019-07-25             NaT        NO 1993-02-10   32  Female        Single                        3              Good     30-39\n",
            "27          29  Abdulrahman Mohammed         HR     Coordinator   35000      Full-Time 2019-03-17      2022-09-30       YES 1989-07-05   35    Male       Married                        3              Good     30-39\n",
            "28          30          Zainab Adamu         IT       Developer   45000      Full-Time 2022-01-07             NaT        NO 1996-04-15   28  Female        Single                        1              Poor     27-29\n",
            "29          31          Chijioke Obi      Sales         Manager   48000      Full-Time 2020-02-10             NaT        NO 1987-08-20   37    Male       Married                        4         Very Good     30-39\n",
            "30          32      Amarachi Okonkwo  Marketing         Analyst   38000      Full-Time 2018-05-05      2022-06-20       YES 1990-12-05   34  Female        Single                        5         Excellent     30-39\n",
            "31          33         Nasiru Hassan         IT       Developer   42000      Part-Time 2021-07-20             NaT        NO 1993-02-28   31    Male       Married                        2              Fair     30-39\n",
            "32          34       Temitope Akande         HR     Coordinator   35000      Full-Time 2019-10-12             NaT        NO 1988-06-15   36  Female        Single                        4         Very Good     30-39\n",
            "33          35      Ayomide Olalekan      Sales  Representative   28000      Part-Time 2022-04-02             NaT        NO 1994-11-08   30    Male        Single                        3              Good     30-39\n",
            "34          36       Chinyere Nnamdi         IT         Manager   58000      Full-Time 2017-08-15      2022-06-10       YES 1986-01-02   39  Female       Married                        4         Very Good     30-39\n",
            "35          37           Idris Bello  Marketing        Designer   40000      Full-Time 2021-11-01             NaT        NO 1993-10-18   31    Male        Single                        5         Excellent     30-39\n",
            "36          38            Adaobi Eze      Sales  Representative   33000      Part-Time 2019-06-25             NaT        NO 1992-08-10   32  Female        Single                        1              Poor     30-39\n",
            "37          39         Yusuf Ibrahim         HR     Coordinator   35000      Full-Time 2019-09-27      2022-11-10       YES 1987-04-05   37    Male       Married                        3              Good     30-39\n",
            "38          40      Nafisat Suleiman         IT       Developer   45000      Full-Time 2022-07-07             NaT        NO 1997-01-20   28  Female        Single                        5         Excellent     27-29\n",
            "39          41        Adewale Akande      Sales         Manager   50000      Full-Time 2020-10-12             NaT        NO 1989-03-15   35    Male       Married                        3              Good     30-39\n",
            "40          42        Blessing Nwosu  Marketing         Analyst   40000      Full-Time 2019-11-05      2022-12-20       YES 1991-05-25   33  Female        Single                        2              Fair     30-39\n",
            "41          43          Farouk Aliyu         IT       Developer   45000      Part-Time 2021-09-10             NaT        NO 1990-02-18   34    Male       Married                        4         Very Good     30-39\n",
            "42          44      Folasade Oladapo         HR     Coordinator   35000      Full-Time 2018-10-25             NaT        NO 1988-11-30   36  Female        Single                        3              Good     30-39\n",
            "43          45         Babatunde Ojo      Sales  Representative   30000      Part-Time 2022-01-22             NaT        NO 1995-03-25   29    Male        Single                        4         Very Good     27-29\n",
            "44          46       Nneka Nwachukwu         IT         Manager   55000      Full-Time 2017-03-18      2022-10-01       YES 1986-05-12   38  Female       Married                        4         Very Good     30-39\n",
            "45          47       Olamide Adeyemi  Marketing        Designer   42000      Full-Time 2022-04-05             NaT        NO 1992-09-22   32    Male        Single                        1              Poor     30-39\n",
            "46          48  Chidinma Chukwuemeka      Sales  Representative   32000      Part-Time 2019-08-27             NaT        NO 1993-03-10   31  Female        Single                        2              Fair     30-39\n",
            "47          49       Abdullahi Ahmed         HR     Coordinator   35000      Full-Time 2019-05-10      2022-12-15       YES 1989-08-05   35    Male       Married                        5         Excellent     30-39\n",
            "48          50          Fatima Bello         IT       Developer   45000      Full-Time 2022-08-07             NaT        NO 1996-11-20   28  Female        Single                        3              Good     27-29\n"
          ]
        }
      ]
    },
    {
      "cell_type": "markdown",
      "source": [
        "ATTRITION VALUES TO GENERATE NUMBERS FROM ATTRITION"
      ],
      "metadata": {
        "id": "pUiicyr2fNRP"
      }
    },
    {
      "cell_type": "code",
      "source": [
        "D_table['Attrition_Values'] = np.where(D_table['Attrition'] == 'YES', '1', '0')\n"
      ],
      "metadata": {
        "id": "ou-tCnvmfH3B"
      },
      "execution_count": 203,
      "outputs": []
    },
    {
      "cell_type": "code",
      "source": [
        "print(D_table.to_string(index=True))"
      ],
      "metadata": {
        "colab": {
          "base_uri": "https://localhost:8080/"
        },
        "id": "XQuEEnxvgbBx",
        "outputId": "bde9c77c-a69b-41ef-d8a3-b1babf8da6ac"
      },
      "execution_count": 204,
      "outputs": [
        {
          "output_type": "stream",
          "name": "stdout",
          "text": [
            "    EmployeeID          EmployeeName Department        Position  Salary EmploymentType   HireDate ResignationDate Attrition  BirthDate  Age  Gender MaritalStatus  emp_performance_ratings PerformanceRating Age_Range Attrition_Values\n",
            "0            1         Chinedu Okoro      Sales         Manager   50000      Full-Time 2020-01-15      2022-05-30       YES 1985-03-12   39    Male       Married                        3              Good     30-39                1\n",
            "1            3         Abdul Ibrahim         IT       Developer   45000      Part-Time 2021-03-05             NaT        NO 1992-11-18   32    Male       Married                        4         Very Good     30-39                0\n",
            "2            4         Funke Adeleke         HR     Coordinator   35000      Full-Time 2018-09-20      2022-08-10       YES 1988-06-30   36  Female        Single                        5         Excellent     30-39                1\n",
            "3            5      Adebayo Ogundipe      Sales  Representative   30000      Part-Time 2022-02-12             NaT        NO 1995-01-08   30    Male        Single                        1              Poor     30-39                0\n",
            "4            6          Zainab Ahmed         IT         Manager   55000      Full-Time 2017-07-01             NaT        NO 1987-09-02   37  Female       Married                        4         Very Good     30-39                0\n",
            "5            7            Nnamdi Eze  Marketing        Designer   42000      Full-Time 2021-08-15      2022-07-10       YES 1991-04-22   33    Male        Single                        5         Excellent     30-39                1\n",
            "6            8         Chioma Okafor      Sales  Representative   32000      Part-Time 2019-12-25             NaT        NO 1993-08-10   31  Female        Single                        2              Fair     30-39                0\n",
            "7            9            Ahmed Musa         HR     Coordinator   35000      Full-Time 2019-01-27      2022-10-15       YES 1989-05-05   35    Male       Married                        4         Very Good     30-39                1\n",
            "8           10           Amina Bello         IT       Developer   45000      Full-Time 2022-03-07             NaT        NO 1996-10-15   28  Female        Single                        4         Very Good     27-29                0\n",
            "9           11          Emeka Okafor      Sales         Manager   48000      Full-Time 2020-04-18             NaT        NO 1986-02-28   38    Male       Married                        1              Poor     30-39                0\n",
            "10          12             Chika Eze  Marketing         Analyst   38000      Full-Time 2018-07-10      2022-09-25       YES 1991-06-15   33  Female        Single                        2              Fair     30-39                1\n",
            "11          13         Ngozi Adewale         IT       Developer   42000      Part-Time 2021-01-05             NaT        NO 1993-10-18   31  Female       Married                        4         Very Good     30-39                0\n",
            "12          14       Olumide Adeyemi         HR     Coordinator   35000      Full-Time 2019-02-20             NaT        NO 1990-08-10   34    Male        Single                        1              Poor     30-39                0\n",
            "13          15      Ayodele Adekunle      Sales  Representative   28000      Part-Time 2022-06-12             NaT        NO 1994-03-08   30    Male        Single                        5         Excellent     30-39                0\n",
            "14          16     Ifeoluwa Akindele         IT         Manager   58000      Full-Time 2017-10-01      2022-07-01       YES 1985-11-02   39  Female       Married                        3              Good     30-39                1\n",
            "15          17         Ibrahim Lawal  Marketing        Designer   40000      Full-Time 2021-12-15             NaT        NO 1993-05-22   31    Male        Single                        3              Good     30-39                0\n",
            "16          18           fatima june      Sales  Representative   33000      Part-Time 2019-11-25             NaT        NO 1992-09-10   32  Female        Single                        2              Fair     30-39                0\n",
            "17          19     Abdulrahman Aliyu         HR     Coordinator   35000      Full-Time 2019-04-27      2022-11-15       YES 1987-05-05   37    Male       Married                        5         Excellent     30-39                1\n",
            "18          20       Fatima Balarabe         IT       Developer   45000      Full-Time 2022-05-07             NaT        NO 1997-02-25   27  Female        Single                        4         Very Good     27-29                0\n",
            "19          21     Oluwatosin Onuoha      Sales         Manager   50000      Full-Time 2020-08-12             NaT        NO 1989-04-10   35    Male       Married                        3              Good     30-39                0\n",
            "20          22   Chinwendu Nwachukwu  Marketing         Analyst   40000      Full-Time 2019-09-10      2022-10-05       YES 1994-12-15   30  Female        Single                        4         Very Good     30-39                1\n",
            "21          23        Mustapha Yusuf         IT       Developer   45000      Part-Time 2021-06-25             NaT        NO 1991-07-18   33    Male       Married                        4         Very Good     30-39                0\n",
            "22          24       Yetunde Oladapo         HR     Coordinator   35000      Full-Time 2018-12-01             NaT        NO 1988-09-30   36  Female        Single                        1              Poor     30-39                0\n",
            "23          25           Adewale Ojo      Sales  Representative   30000      Part-Time 2022-03-22             NaT        NO 1995-05-25   29    Male        Single                        2              Fair     27-29                0\n",
            "24          26       Aishat Abubakar         IT         Manager   55000      Full-Time 2017-05-18      2022-08-15       YES 1986-08-02   38  Female       Married                        4         Very Good     30-39                1\n",
            "25          27    Oluwasegun Adeleke  Marketing        Designer   42000      Full-Time 2022-02-05             NaT        NO 1992-11-22   32    Male        Single                        5         Excellent     30-39                0\n",
            "26          28    Ijeoma Chukwuemeka      Sales  Representative   32000      Part-Time 2019-07-25             NaT        NO 1993-02-10   32  Female        Single                        3              Good     30-39                0\n",
            "27          29  Abdulrahman Mohammed         HR     Coordinator   35000      Full-Time 2019-03-17      2022-09-30       YES 1989-07-05   35    Male       Married                        3              Good     30-39                1\n",
            "28          30          Zainab Adamu         IT       Developer   45000      Full-Time 2022-01-07             NaT        NO 1996-04-15   28  Female        Single                        1              Poor     27-29                0\n",
            "29          31          Chijioke Obi      Sales         Manager   48000      Full-Time 2020-02-10             NaT        NO 1987-08-20   37    Male       Married                        4         Very Good     30-39                0\n",
            "30          32      Amarachi Okonkwo  Marketing         Analyst   38000      Full-Time 2018-05-05      2022-06-20       YES 1990-12-05   34  Female        Single                        5         Excellent     30-39                1\n",
            "31          33         Nasiru Hassan         IT       Developer   42000      Part-Time 2021-07-20             NaT        NO 1993-02-28   31    Male       Married                        2              Fair     30-39                0\n",
            "32          34       Temitope Akande         HR     Coordinator   35000      Full-Time 2019-10-12             NaT        NO 1988-06-15   36  Female        Single                        4         Very Good     30-39                0\n",
            "33          35      Ayomide Olalekan      Sales  Representative   28000      Part-Time 2022-04-02             NaT        NO 1994-11-08   30    Male        Single                        3              Good     30-39                0\n",
            "34          36       Chinyere Nnamdi         IT         Manager   58000      Full-Time 2017-08-15      2022-06-10       YES 1986-01-02   39  Female       Married                        4         Very Good     30-39                1\n",
            "35          37           Idris Bello  Marketing        Designer   40000      Full-Time 2021-11-01             NaT        NO 1993-10-18   31    Male        Single                        5         Excellent     30-39                0\n",
            "36          38            Adaobi Eze      Sales  Representative   33000      Part-Time 2019-06-25             NaT        NO 1992-08-10   32  Female        Single                        1              Poor     30-39                0\n",
            "37          39         Yusuf Ibrahim         HR     Coordinator   35000      Full-Time 2019-09-27      2022-11-10       YES 1987-04-05   37    Male       Married                        3              Good     30-39                1\n",
            "38          40      Nafisat Suleiman         IT       Developer   45000      Full-Time 2022-07-07             NaT        NO 1997-01-20   28  Female        Single                        5         Excellent     27-29                0\n",
            "39          41        Adewale Akande      Sales         Manager   50000      Full-Time 2020-10-12             NaT        NO 1989-03-15   35    Male       Married                        3              Good     30-39                0\n",
            "40          42        Blessing Nwosu  Marketing         Analyst   40000      Full-Time 2019-11-05      2022-12-20       YES 1991-05-25   33  Female        Single                        2              Fair     30-39                1\n",
            "41          43          Farouk Aliyu         IT       Developer   45000      Part-Time 2021-09-10             NaT        NO 1990-02-18   34    Male       Married                        4         Very Good     30-39                0\n",
            "42          44      Folasade Oladapo         HR     Coordinator   35000      Full-Time 2018-10-25             NaT        NO 1988-11-30   36  Female        Single                        3              Good     30-39                0\n",
            "43          45         Babatunde Ojo      Sales  Representative   30000      Part-Time 2022-01-22             NaT        NO 1995-03-25   29    Male        Single                        4         Very Good     27-29                0\n",
            "44          46       Nneka Nwachukwu         IT         Manager   55000      Full-Time 2017-03-18      2022-10-01       YES 1986-05-12   38  Female       Married                        4         Very Good     30-39                1\n",
            "45          47       Olamide Adeyemi  Marketing        Designer   42000      Full-Time 2022-04-05             NaT        NO 1992-09-22   32    Male        Single                        1              Poor     30-39                0\n",
            "46          48  Chidinma Chukwuemeka      Sales  Representative   32000      Part-Time 2019-08-27             NaT        NO 1993-03-10   31  Female        Single                        2              Fair     30-39                0\n",
            "47          49       Abdullahi Ahmed         HR     Coordinator   35000      Full-Time 2019-05-10      2022-12-15       YES 1989-08-05   35    Male       Married                        5         Excellent     30-39                1\n",
            "48          50          Fatima Bello         IT       Developer   45000      Full-Time 2022-08-07             NaT        NO 1996-11-20   28  Female        Single                        3              Good     27-29                0\n"
          ]
        }
      ]
    },
    {
      "cell_type": "code",
      "source": [
        "D_table.Attrition.value_counts().plot(kind='pie',\n",
        "                                                autopct='%1.0f%%',\n",
        "                                               figsize=(8, 6))"
      ],
      "metadata": {
        "colab": {
          "base_uri": "https://localhost:8080/",
          "height": 516
        },
        "id": "9evcr5jAM8D1",
        "outputId": "e93e091e-c204-4155-9895-91e48a98ed28"
      },
      "execution_count": 205,
      "outputs": [
        {
          "output_type": "execute_result",
          "data": {
            "text/plain": [
              "<Axes: ylabel='count'>"
            ]
          },
          "metadata": {},
          "execution_count": 205
        },
        {
          "output_type": "display_data",
          "data": {
            "text/plain": [
              "<Figure size 800x600 with 1 Axes>"
            ],
            "image/png": "[encoded data removed]"
          },
          "metadata": {}
        }
      ]
    },
    {
      "cell_type": "markdown",
      "source": [],
      "metadata": {
        "id": "LlRIpscfOBhy"
      }
    },
    {
      "cell_type": "code",
      "source": [
        "#Build charts using attrition vs department, vs salary range, vs age-range, vs gender, vs marital status, vs performance rating"
      ],
      "metadata": {
        "id": "84mWpGMziMfL"
      },
      "execution_count": 206,
      "outputs": []
    },
    {
      "cell_type": "markdown",
      "source": [
        "PLOTTING GRAPHS"
      ],
      "metadata": {
        "id": "D-PGy6VDGdo6"
      }
    },
    {
      "cell_type": "code",
      "source": [
        "# Calculate attrition count per department\n",
        "attrition_counts = D_table.groupby(['Department', 'Attrition']).size().unstack(fill_value=0)\n",
        "\n",
        "# Plotting the attrition vs department\n",
        "plt.figure(figsize=(10, 6))\n",
        "attrition_counts.plot(kind='bar', stacked=True, color=['green', 'red'])\n",
        "plt.title('Attrition vs Department')\n",
        "plt.xlabel('Department')\n",
        "plt.ylabel('Attrition')\n",
        "plt.xticks(rotation=45)\n",
        "plt.legend(title='Attrition', labels=['No Attrition', 'Attrition'])\n",
        "plt.tight_layout()\n",
        "plt.show()"
      ],
      "metadata": {
        "colab": {
          "base_uri": "https://localhost:8080/",
          "height": 504
        },
        "id": "F-qxCGAkf7gD",
        "outputId": "12af063d-97eb-41b1-b9a6-6a8950587ee9"
      },
      "execution_count": 207,
      "outputs": [
        {
          "output_type": "display_data",
          "data": {
            "text/plain": [
              "<Figure size 1000x600 with 0 Axes>"
            ]
          },
          "metadata": {}
        },
        {
          "output_type": "display_data",
          "data": {
            "text/plain": [
              "<Figure size 640x480 with 1 Axes>"
            ],
            "image/png": "[encoded data removed]"
          },
          "metadata": {}
        }
      ]
    },
    {
      "cell_type": "code",
      "source": [
        "print(D_table.columns)"
      ],
      "metadata": {
        "colab": {
          "base_uri": "https://localhost:8080/"
        },
        "id": "NoUzMlvQhfGa",
        "outputId": "2094db8e-e787-43fa-b272-6336ff73f8f3"
      },
      "execution_count": 208,
      "outputs": [
        {
          "output_type": "stream",
          "name": "stdout",
          "text": [
            "Index(['EmployeeID', 'EmployeeName', 'Department', 'Position', 'Salary',\n",
            "       'EmploymentType', 'HireDate', 'ResignationDate', 'Attrition',\n",
            "       'BirthDate', 'Age', 'Gender', 'MaritalStatus',\n",
            "       'emp_performance_ratings', 'PerformanceRating', 'Age_Range',\n",
            "       'Attrition_Values'],\n",
            "      dtype='object')\n"
          ]
        }
      ]
    },
    {
      "cell_type": "code",
      "source": [
        "#Finding the minimum and maximum Salary\n",
        "min_value = D_table['Salary'].min()\n",
        "max_value = D_table['Salary'].max()\n",
        "\n",
        "print(min_value)\n",
        "print(max_value)"
      ],
      "metadata": {
        "colab": {
          "base_uri": "https://localhost:8080/"
        },
        "id": "xUNcoredh1A4",
        "outputId": "062bf5a0-30fc-4227-857f-144d7e3dcc1a"
      },
      "execution_count": 209,
      "outputs": [
        {
          "output_type": "stream",
          "name": "stdout",
          "text": [
            "28000\n",
            "58000\n"
          ]
        }
      ]
    },
    {
      "cell_type": "code",
      "source": [
        "bins = [28000,35000,40000,45000, 50000, 51000, float('inf')]\n",
        "labels = ['0 - 28k', '29k - 35k', '36k - 40k', '41- 45k', '46k - 50k', '51+']\n",
        "\n",
        "# Create a new column for salary ranges\n",
        "D_table['Salary_Range'] = pd.cut(D_table['Salary'], bins=bins, labels=labels, right=False)\n",
        "\n",
        "# Display the modified DataFrame\n",
        "print(\"\\nDataFrame with Salary_Range:\")\n",
        "print(D_table.to_string(index= True))"
      ],
      "metadata": {
        "colab": {
          "base_uri": "https://localhost:8080/"
        },
        "id": "m1bygzTRjHw3",
        "outputId": "70d4a359-1b62-42d1-d925-eef921b6e5f8"
      },
      "execution_count": 210,
      "outputs": [
        {
          "output_type": "stream",
          "name": "stdout",
          "text": [
            "\n",
            "DataFrame with Salary_Range:\n",
            "    EmployeeID          EmployeeName Department        Position  Salary EmploymentType   HireDate ResignationDate Attrition  BirthDate  Age  Gender MaritalStatus  emp_performance_ratings PerformanceRating Age_Range Attrition_Values Salary_Range\n",
            "0            1         Chinedu Okoro      Sales         Manager   50000      Full-Time 2020-01-15      2022-05-30       YES 1985-03-12   39    Male       Married                        3              Good     30-39                1    46k - 50k\n",
            "1            3         Abdul Ibrahim         IT       Developer   45000      Part-Time 2021-03-05             NaT        NO 1992-11-18   32    Male       Married                        4         Very Good     30-39                0      41- 45k\n",
            "2            4         Funke Adeleke         HR     Coordinator   35000      Full-Time 2018-09-20      2022-08-10       YES 1988-06-30   36  Female        Single                        5         Excellent     30-39                1    29k - 35k\n",
            "3            5      Adebayo Ogundipe      Sales  Representative   30000      Part-Time 2022-02-12             NaT        NO 1995-01-08   30    Male        Single                        1              Poor     30-39                0      0 - 28k\n",
            "4            6          Zainab Ahmed         IT         Manager   55000      Full-Time 2017-07-01             NaT        NO 1987-09-02   37  Female       Married                        4         Very Good     30-39                0          51+\n",
            "5            7            Nnamdi Eze  Marketing        Designer   42000      Full-Time 2021-08-15      2022-07-10       YES 1991-04-22   33    Male        Single                        5         Excellent     30-39                1    36k - 40k\n",
            "6            8         Chioma Okafor      Sales  Representative   32000      Part-Time 2019-12-25             NaT        NO 1993-08-10   31  Female        Single                        2              Fair     30-39                0      0 - 28k\n",
            "7            9            Ahmed Musa         HR     Coordinator   35000      Full-Time 2019-01-27      2022-10-15       YES 1989-05-05   35    Male       Married                        4         Very Good     30-39                1    29k - 35k\n",
            "8           10           Amina Bello         IT       Developer   45000      Full-Time 2022-03-07             NaT        NO 1996-10-15   28  Female        Single                        4         Very Good     27-29                0      41- 45k\n",
            "9           11          Emeka Okafor      Sales         Manager   48000      Full-Time 2020-04-18             NaT        NO 1986-02-28   38    Male       Married                        1              Poor     30-39                0      41- 45k\n",
            "10          12             Chika Eze  Marketing         Analyst   38000      Full-Time 2018-07-10      2022-09-25       YES 1991-06-15   33  Female        Single                        2              Fair     30-39                1    29k - 35k\n",
            "11          13         Ngozi Adewale         IT       Developer   42000      Part-Time 2021-01-05             NaT        NO 1993-10-18   31  Female       Married                        4         Very Good     30-39                0    36k - 40k\n",
            "12          14       Olumide Adeyemi         HR     Coordinator   35000      Full-Time 2019-02-20             NaT        NO 1990-08-10   34    Male        Single                        1              Poor     30-39                0    29k - 35k\n",
            "13          15      Ayodele Adekunle      Sales  Representative   28000      Part-Time 2022-06-12             NaT        NO 1994-03-08   30    Male        Single                        5         Excellent     30-39                0      0 - 28k\n",
            "14          16     Ifeoluwa Akindele         IT         Manager   58000      Full-Time 2017-10-01      2022-07-01       YES 1985-11-02   39  Female       Married                        3              Good     30-39                1          51+\n",
            "15          17         Ibrahim Lawal  Marketing        Designer   40000      Full-Time 2021-12-15             NaT        NO 1993-05-22   31    Male        Single                        3              Good     30-39                0    36k - 40k\n",
            "16          18           fatima june      Sales  Representative   33000      Part-Time 2019-11-25             NaT        NO 1992-09-10   32  Female        Single                        2              Fair     30-39                0      0 - 28k\n",
            "17          19     Abdulrahman Aliyu         HR     Coordinator   35000      Full-Time 2019-04-27      2022-11-15       YES 1987-05-05   37    Male       Married                        5         Excellent     30-39                1    29k - 35k\n",
            "18          20       Fatima Balarabe         IT       Developer   45000      Full-Time 2022-05-07             NaT        NO 1997-02-25   27  Female        Single                        4         Very Good     27-29                0      41- 45k\n",
            "19          21     Oluwatosin Onuoha      Sales         Manager   50000      Full-Time 2020-08-12             NaT        NO 1989-04-10   35    Male       Married                        3              Good     30-39                0    46k - 50k\n",
            "20          22   Chinwendu Nwachukwu  Marketing         Analyst   40000      Full-Time 2019-09-10      2022-10-05       YES 1994-12-15   30  Female        Single                        4         Very Good     30-39                1    36k - 40k\n",
            "21          23        Mustapha Yusuf         IT       Developer   45000      Part-Time 2021-06-25             NaT        NO 1991-07-18   33    Male       Married                        4         Very Good     30-39                0      41- 45k\n",
            "22          24       Yetunde Oladapo         HR     Coordinator   35000      Full-Time 2018-12-01             NaT        NO 1988-09-30   36  Female        Single                        1              Poor     30-39                0    29k - 35k\n",
            "23          25           Adewale Ojo      Sales  Representative   30000      Part-Time 2022-03-22             NaT        NO 1995-05-25   29    Male        Single                        2              Fair     27-29                0      0 - 28k\n",
            "24          26       Aishat Abubakar         IT         Manager   55000      Full-Time 2017-05-18      2022-08-15       YES 1986-08-02   38  Female       Married                        4         Very Good     30-39                1          51+\n",
            "25          27    Oluwasegun Adeleke  Marketing        Designer   42000      Full-Time 2022-02-05             NaT        NO 1992-11-22   32    Male        Single                        5         Excellent     30-39                0    36k - 40k\n",
            "26          28    Ijeoma Chukwuemeka      Sales  Representative   32000      Part-Time 2019-07-25             NaT        NO 1993-02-10   32  Female        Single                        3              Good     30-39                0      0 - 28k\n",
            "27          29  Abdulrahman Mohammed         HR     Coordinator   35000      Full-Time 2019-03-17      2022-09-30       YES 1989-07-05   35    Male       Married                        3              Good     30-39                1    29k - 35k\n",
            "28          30          Zainab Adamu         IT       Developer   45000      Full-Time 2022-01-07             NaT        NO 1996-04-15   28  Female        Single                        1              Poor     27-29                0      41- 45k\n",
            "29          31          Chijioke Obi      Sales         Manager   48000      Full-Time 2020-02-10             NaT        NO 1987-08-20   37    Male       Married                        4         Very Good     30-39                0      41- 45k\n",
            "30          32      Amarachi Okonkwo  Marketing         Analyst   38000      Full-Time 2018-05-05      2022-06-20       YES 1990-12-05   34  Female        Single                        5         Excellent     30-39                1    29k - 35k\n",
            "31          33         Nasiru Hassan         IT       Developer   42000      Part-Time 2021-07-20             NaT        NO 1993-02-28   31    Male       Married                        2              Fair     30-39                0    36k - 40k\n",
            "32          34       Temitope Akande         HR     Coordinator   35000      Full-Time 2019-10-12             NaT        NO 1988-06-15   36  Female        Single                        4         Very Good     30-39                0    29k - 35k\n",
            "33          35      Ayomide Olalekan      Sales  Representative   28000      Part-Time 2022-04-02             NaT        NO 1994-11-08   30    Male        Single                        3              Good     30-39                0      0 - 28k\n",
            "34          36       Chinyere Nnamdi         IT         Manager   58000      Full-Time 2017-08-15      2022-06-10       YES 1986-01-02   39  Female       Married                        4         Very Good     30-39                1          51+\n",
            "35          37           Idris Bello  Marketing        Designer   40000      Full-Time 2021-11-01             NaT        NO 1993-10-18   31    Male        Single                        5         Excellent     30-39                0    36k - 40k\n",
            "36          38            Adaobi Eze      Sales  Representative   33000      Part-Time 2019-06-25             NaT        NO 1992-08-10   32  Female        Single                        1              Poor     30-39                0      0 - 28k\n",
            "37          39         Yusuf Ibrahim         HR     Coordinator   35000      Full-Time 2019-09-27      2022-11-10       YES 1987-04-05   37    Male       Married                        3              Good     30-39                1    29k - 35k\n",
            "38          40      Nafisat Suleiman         IT       Developer   45000      Full-Time 2022-07-07             NaT        NO 1997-01-20   28  Female        Single                        5         Excellent     27-29                0      41- 45k\n",
            "39          41        Adewale Akande      Sales         Manager   50000      Full-Time 2020-10-12             NaT        NO 1989-03-15   35    Male       Married                        3              Good     30-39                0    46k - 50k\n",
            "40          42        Blessing Nwosu  Marketing         Analyst   40000      Full-Time 2019-11-05      2022-12-20       YES 1991-05-25   33  Female        Single                        2              Fair     30-39                1    36k - 40k\n",
            "41          43          Farouk Aliyu         IT       Developer   45000      Part-Time 2021-09-10             NaT        NO 1990-02-18   34    Male       Married                        4         Very Good     30-39                0      41- 45k\n",
            "42          44      Folasade Oladapo         HR     Coordinator   35000      Full-Time 2018-10-25             NaT        NO 1988-11-30   36  Female        Single                        3              Good     30-39                0    29k - 35k\n",
            "43          45         Babatunde Ojo      Sales  Representative   30000      Part-Time 2022-01-22             NaT        NO 1995-03-25   29    Male        Single                        4         Very Good     27-29                0      0 - 28k\n",
            "44          46       Nneka Nwachukwu         IT         Manager   55000      Full-Time 2017-03-18      2022-10-01       YES 1986-05-12   38  Female       Married                        4         Very Good     30-39                1          51+\n",
            "45          47       Olamide Adeyemi  Marketing        Designer   42000      Full-Time 2022-04-05             NaT        NO 1992-09-22   32    Male        Single                        1              Poor     30-39                0    36k - 40k\n",
            "46          48  Chidinma Chukwuemeka      Sales  Representative   32000      Part-Time 2019-08-27             NaT        NO 1993-03-10   31  Female        Single                        2              Fair     30-39                0      0 - 28k\n",
            "47          49       Abdullahi Ahmed         HR     Coordinator   35000      Full-Time 2019-05-10      2022-12-15       YES 1989-08-05   35    Male       Married                        5         Excellent     30-39                1    29k - 35k\n",
            "48          50          Fatima Bello         IT       Developer   45000      Full-Time 2022-08-07             NaT        NO 1996-11-20   28  Female        Single                        3              Good     27-29                0      41- 45k\n"
          ]
        }
      ]
    },
    {
      "cell_type": "code",
      "source": [
        "# Calculate attrition count per salary\n",
        "attrition_counts = D_table.groupby(['Salary_Range', 'Attrition']).size().unstack(fill_value=0)\n",
        "\n",
        "# Plotting the attrition vs age range\n",
        "plt.figure(figsize=(10, 6))\n",
        "attrition_counts.plot(kind='bar', stacked=True, color=['green', 'red'])\n",
        "plt.title('Attrition vs Salary_Range')\n",
        "plt.xlabel('Salary_Range')\n",
        "plt.ylabel('Attrition')\n",
        "plt.xticks(rotation=45)\n",
        "plt.legend(title='Attrition', labels=['No Attrition', 'Attrition'])\n",
        "plt.tight_layout()\n",
        "plt.show()"
      ],
      "metadata": {
        "id": "c1khrq6bzR0b",
        "outputId": "70e244fd-0bbc-4d61-fcd2-2d187bf1f702",
        "colab": {
          "base_uri": "https://localhost:8080/",
          "height": 559
        }
      },
      "execution_count": 211,
      "outputs": [
        {
          "output_type": "stream",
          "name": "stderr",
          "text": [
            "<ipython-input-211-720cdd477ca5>:2: FutureWarning: The default of observed=False is deprecated and will be changed to True in a future version of pandas. Pass observed=False to retain current behavior or observed=True to adopt the future default and silence this warning.\n",
            "  attrition_counts = D_table.groupby(['Salary_Range', 'Attrition']).size().unstack(fill_value=0)\n"
          ]
        },
        {
          "output_type": "display_data",
          "data": {
            "text/plain": [
              "<Figure size 1000x600 with 0 Axes>"
            ]
          },
          "metadata": {}
        },
        {
          "output_type": "display_data",
          "data": {
            "text/plain": [
              "<Figure size 640x480 with 1 Axes>"
            ],
            "image/png": "[encoded data removed]"
          },
          "metadata": {}
        }
      ]
    },
    {
      "cell_type": "code",
      "source": [
        "# Calculate attrition count per age range\n",
        "attrition_counts = D_table.groupby(['Age_Range', 'Attrition']).size().unstack(fill_value=0)\n",
        "\n",
        "# Plotting the attrition vs age range\n",
        "plt.figure(figsize=(10, 6))\n",
        "attrition_counts.plot(kind='bar', stacked=True, color=['green', 'red'])\n",
        "plt.title('Attrition vs Age_Range')\n",
        "plt.xlabel('Age_Range')\n",
        "plt.ylabel('Attrition')\n",
        "plt.xticks(rotation=45)\n",
        "plt.legend(title='Attrition', labels=['No Attrition', 'Attrition'])\n",
        "plt.tight_layout()\n",
        "plt.show()"
      ],
      "metadata": {
        "colab": {
          "base_uri": "https://localhost:8080/",
          "height": 504
        },
        "id": "fiIxNIHViA88",
        "outputId": "aa2d4505-c8da-4d85-c831-b366f6e7d64c"
      },
      "execution_count": 212,
      "outputs": [
        {
          "output_type": "display_data",
          "data": {
            "text/plain": [
              "<Figure size 1000x600 with 0 Axes>"
            ]
          },
          "metadata": {}
        },
        {
          "output_type": "display_data",
          "data": {
            "text/plain": [
              "<Figure size 640x480 with 1 Axes>"
            ],
            "image/png": "[encoded data removed]"
          },
          "metadata": {}
        }
      ]
    },
    {
      "cell_type": "code",
      "source": [
        "# Calculate attrition count per gender\n",
        "attrition_counts = D_table.groupby(['Gender', 'Attrition']).size().unstack(fill_value=0)\n",
        "\n",
        "# Plotting the attrition vs gender\n",
        "plt.figure(figsize=(10, 6))\n",
        "attrition_counts.plot(kind='bar', stacked=True, color=['green', 'red'])\n",
        "plt.title('Attrition vs Gender')\n",
        "plt.xlabel('Gender')\n",
        "plt.ylabel('Attrition')\n",
        "plt.xticks(rotation=45)\n",
        "plt.legend(title='Attrition', labels=['No Attrition', 'Attrition'])\n",
        "plt.tight_layout()\n",
        "plt.show()"
      ],
      "metadata": {
        "colab": {
          "base_uri": "https://localhost:8080/",
          "height": 504
        },
        "id": "vp9o_PannF3g",
        "outputId": "bd141741-b0eb-4dfa-cabf-2a11636799ab"
      },
      "execution_count": 213,
      "outputs": [
        {
          "output_type": "display_data",
          "data": {
            "text/plain": [
              "<Figure size 1000x600 with 0 Axes>"
            ]
          },
          "metadata": {}
        },
        {
          "output_type": "display_data",
          "data": {
            "text/plain": [
              "<Figure size 640x480 with 1 Axes>"
            ],
            "image/png": "[encoded data removed]"
          },
          "metadata": {}
        }
      ]
    },
    {
      "cell_type": "code",
      "source": [
        "# Calculate attrition count per MaritalStatus\n",
        "attrition_counts = D_table.groupby(['Gender', 'MaritalStatus']).size().unstack(fill_value=0)\n",
        "\n",
        "# Plotting the attrition vs MaritalStatus\n",
        "plt.figure(figsize=(10, 6))\n",
        "attrition_counts.plot(kind='barh', stacked=True, color=['green', 'red'])\n",
        "plt.title('Attrition vs MaritalStatus')\n",
        "plt.xlabel('Attrition')\n",
        "plt.ylabel('MaritalStatus')\n",
        "plt.xticks(rotation=45)\n",
        "plt.legend(title='Attrition', labels=['No Attrition', 'Attrition'])\n",
        "plt.tight_layout()\n",
        "plt.show()"
      ],
      "metadata": {
        "colab": {
          "base_uri": "https://localhost:8080/",
          "height": 504
        },
        "id": "o2-so7H7oWIr",
        "outputId": "c0c4bade-f30e-4c27-ac1a-b4c40582ab68"
      },
      "execution_count": 228,
      "outputs": [
        {
          "output_type": "display_data",
          "data": {
            "text/plain": [
              "<Figure size 1000x600 with 0 Axes>"
            ]
          },
          "metadata": {}
        },
        {
          "output_type": "display_data",
          "data": {
            "text/plain": [
              "<Figure size 640x480 with 1 Axes>"
            ],
            "image/png": "[encoded data removed]"
          },
          "metadata": {}
        }
      ]
    },
    {
      "cell_type": "code",
      "source": [
        "# Calculate attrition count per performance rating\n",
        "attrition_counts = D_table.groupby(['PerformanceRating', 'Attrition']).size().unstack(fill_value=0)\n",
        "\n",
        "# Plotting the attrition vs performance rating\n",
        "plt.figure(figsize=(10, 6))\n",
        "attrition_counts.plot(kind='barh', stacked=True, color=['green', 'red'])\n",
        "plt.title('Attrition vs PerformanceRating')\n",
        "plt.xlabel('Attrition')\n",
        "plt.ylabel('PerformanceRating')\n",
        "plt.xticks(rotation=45)\n",
        "plt.legend(title='Attrition', labels=['No Attrition', 'Attrition'])\n",
        "plt.tight_layout()\n",
        "plt.show()"
      ],
      "metadata": {
        "colab": {
          "base_uri": "https://localhost:8080/",
          "height": 504
        },
        "id": "oftD-8d7o6Zh",
        "outputId": "31e992d3-8fdd-48a6-d8d9-d24991086c3d"
      },
      "execution_count": 227,
      "outputs": [
        {
          "output_type": "display_data",
          "data": {
            "text/plain": [
              "<Figure size 1000x600 with 0 Axes>"
            ]
          },
          "metadata": {}
        },
        {
          "output_type": "display_data",
          "data": {
            "text/plain": [
              "<Figure size 640x480 with 1 Axes>"
            ],
            "image/png": "[encoded data removed]"
          },
          "metadata": {}
        }
      ]
    },
    {
      "cell_type": "code",
      "source": [
        "#check for correlation"
      ],
      "metadata": {
        "id": "tbophs9xhQgh"
      },
      "execution_count": 216,
      "outputs": []
    },
    {
      "cell_type": "code",
      "source": [
        "print(D_table.columns)"
      ],
      "metadata": {
        "id": "C47XltVOz90f",
        "outputId": "adbca695-5823-4e62-bcdb-3fab39ac1b95",
        "colab": {
          "base_uri": "https://localhost:8080/"
        }
      },
      "execution_count": 217,
      "outputs": [
        {
          "output_type": "stream",
          "name": "stdout",
          "text": [
            "Index(['EmployeeID', 'EmployeeName', 'Department', 'Position', 'Salary',\n",
            "       'EmploymentType', 'HireDate', 'ResignationDate', 'Attrition',\n",
            "       'BirthDate', 'Age', 'Gender', 'MaritalStatus',\n",
            "       'emp_performance_ratings', 'PerformanceRating', 'Age_Range',\n",
            "       'Attrition_Values', 'Salary_Range'],\n",
            "      dtype='object')\n"
          ]
        }
      ]
    },
    {
      "cell_type": "markdown",
      "source": [
        "CALCULATING LIST OF EMPLOYEES"
      ],
      "metadata": {
        "id": "t-wvIeTf17Nl"
      }
    },
    {
      "cell_type": "code",
      "source": [
        "total_employees = len(D_table)\n",
        "print(total_employees)"
      ],
      "metadata": {
        "id": "SOdaDFI80MmP",
        "outputId": "42abc264-34c7-4aca-8242-09e48b7e4012",
        "colab": {
          "base_uri": "https://localhost:8080/"
        }
      },
      "execution_count": 218,
      "outputs": [
        {
          "output_type": "stream",
          "name": "stdout",
          "text": [
            "49\n"
          ]
        }
      ]
    },
    {
      "cell_type": "code",
      "source": [
        "former_employees = len(D_table[D_table['Attrition'] == 'YES'])\n",
        "print(former_employees)"
      ],
      "metadata": {
        "id": "rBb7C10e0r9D",
        "outputId": "eac7fbab-f1cb-4fd0-af60-1e5085838ba0",
        "colab": {
          "base_uri": "https://localhost:8080/"
        }
      },
      "execution_count": 219,
      "outputs": [
        {
          "output_type": "stream",
          "name": "stdout",
          "text": [
            "16\n"
          ]
        }
      ]
    },
    {
      "cell_type": "code",
      "source": [
        "current_employees = len(D_table[D_table['Attrition'] == 'NO'])\n",
        "print(current_employees)"
      ],
      "metadata": {
        "id": "k5euiPst1o7N",
        "outputId": "964b449c-a880-49ff-adae-a80e33fd6c05",
        "colab": {
          "base_uri": "https://localhost:8080/"
        }
      },
      "execution_count": 220,
      "outputs": [
        {
          "output_type": "stream",
          "name": "stdout",
          "text": [
            "33\n"
          ]
        }
      ]
    },
    {
      "cell_type": "code",
      "source": [
        "rate_of_attrition = (former_employees / total_employees) * 100\n",
        "print(rate_of_attrition)"
      ],
      "metadata": {
        "id": "aYCFwOAS2EX9",
        "outputId": "446c5c08-ddec-4d09-ffde-64acddb3a0b7",
        "colab": {
          "base_uri": "https://localhost:8080/"
        }
      },
      "execution_count": 221,
      "outputs": [
        {
          "output_type": "stream",
          "name": "stdout",
          "text": [
            "32.6530612244898\n"
          ]
        }
      ]
    },
    {
      "cell_type": "code",
      "source": [
        "print(f'Rate_of_attrition: {float(rate_of_attrition):.1f}%')\n",
        "#The percentage rate_of_attrition shown is above is considered high.A healthy attrition\n",
        "#rate is generally considered to be around 5–10%, but this varies by industry, company size, and region."
      ],
      "metadata": {
        "id": "ihv9CFXK2Lid",
        "outputId": "05c27b03-2759-4035-f53d-2b094639ebaa",
        "colab": {
          "base_uri": "https://localhost:8080/"
        }
      },
      "execution_count": 222,
      "outputs": [
        {
          "output_type": "stream",
          "name": "stdout",
          "text": [
            "Rate_of_attrition: 32.7%\n"
          ]
        }
      ]
    },
    {
      "cell_type": "code",
      "source": [
        "#converting Attrition_Values column from str dType to int dType\n",
        "D_table['Attition_Values'] = D_table['Attrition_Values'].astype(int)\n",
        "\n",
        "print(D_table.info())"
      ],
      "metadata": {
        "id": "R9ozYhRj8aow",
        "outputId": "46a0c27f-b2dc-4107-f180-ba4b1e27e2e2",
        "colab": {
          "base_uri": "https://localhost:8080/"
        }
      },
      "execution_count": 231,
      "outputs": [
        {
          "output_type": "stream",
          "name": "stdout",
          "text": [
            "<class 'pandas.core.frame.DataFrame'>\n",
            "RangeIndex: 49 entries, 0 to 48\n",
            "Data columns (total 19 columns):\n",
            " #   Column                   Non-Null Count  Dtype         \n",
            "---  ------                   --------------  -----         \n",
            " 0   EmployeeID               49 non-null     int64         \n",
            " 1   EmployeeName             49 non-null     object        \n",
            " 2   Department               49 non-null     object        \n",
            " 3   Position                 49 non-null     object        \n",
            " 4   Salary                   49 non-null     int64         \n",
            " 5   EmploymentType           49 non-null     object        \n",
            " 6   HireDate                 49 non-null     datetime64[ns]\n",
            " 7   ResignationDate          16 non-null     datetime64[ns]\n",
            " 8   Attrition                49 non-null     object        \n",
            " 9   BirthDate                49 non-null     datetime64[ns]\n",
            " 10  Age                      49 non-null     int64         \n",
            " 11  Gender                   49 non-null     object        \n",
            " 12  MaritalStatus            49 non-null     object        \n",
            " 13  emp_performance_ratings  49 non-null     int64         \n",
            " 14  PerformanceRating        49 non-null     object        \n",
            " 15  Age_Range                49 non-null     object        \n",
            " 16  Attrition_Values         49 non-null     object        \n",
            " 17  Salary_Range             49 non-null     category      \n",
            " 18  Attition_Values          49 non-null     int64         \n",
            "dtypes: category(1), datetime64[ns](3), int64(5), object(10)\n",
            "memory usage: 7.3+ KB\n",
            "None\n"
          ]
        }
      ]
    },
    {
      "cell_type": "code",
      "source": [],
      "metadata": {
        "id": "Ax2fcxaz5pAG"
      },
      "execution_count": 224,
      "outputs": []
    }
  ]
}